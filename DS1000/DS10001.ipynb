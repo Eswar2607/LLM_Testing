{
  "nbformat": 4,
  "nbformat_minor": 0,
  "metadata": {
    "colab": {
      "provenance": []
    },
    "kernelspec": {
      "name": "python3",
      "display_name": "Python 3"
    },
    "language_info": {
      "name": "python"
    },
    "widgets": {
      "application/vnd.jupyter.widget-state+json": {
        "4bd1b644dde74a498962682f2ac4c6b0": {
          "model_module": "@jupyter-widgets/controls",
          "model_name": "HBoxModel",
          "model_module_version": "1.5.0",
          "state": {
            "_dom_classes": [],
            "_model_module": "@jupyter-widgets/controls",
            "_model_module_version": "1.5.0",
            "_model_name": "HBoxModel",
            "_view_count": null,
            "_view_module": "@jupyter-widgets/controls",
            "_view_module_version": "1.5.0",
            "_view_name": "HBoxView",
            "box_style": "",
            "children": [
              "IPY_MODEL_783d33feed2d4cb0b7dc89ec60fc64f3",
              "IPY_MODEL_3ff5725535674ca091f2037fcfdcd9ce",
              "IPY_MODEL_20ed13b41db54bca8a7e4fb53222530d"
            ],
            "layout": "IPY_MODEL_cb22257040514b9bb1bb3d144a45a2cf"
          }
        },
        "783d33feed2d4cb0b7dc89ec60fc64f3": {
          "model_module": "@jupyter-widgets/controls",
          "model_name": "HTMLModel",
          "model_module_version": "1.5.0",
          "state": {
            "_dom_classes": [],
            "_model_module": "@jupyter-widgets/controls",
            "_model_module_version": "1.5.0",
            "_model_name": "HTMLModel",
            "_view_count": null,
            "_view_module": "@jupyter-widgets/controls",
            "_view_module_version": "1.5.0",
            "_view_name": "HTMLView",
            "description": "",
            "description_tooltip": null,
            "layout": "IPY_MODEL_e131dbc3cb6b4e729f725a59edc43cd1",
            "placeholder": "​",
            "style": "IPY_MODEL_8a9c67d2ec8d40f29f1f2772693914b2",
            "value": "Downloading readme: 100%"
          }
        },
        "3ff5725535674ca091f2037fcfdcd9ce": {
          "model_module": "@jupyter-widgets/controls",
          "model_name": "FloatProgressModel",
          "model_module_version": "1.5.0",
          "state": {
            "_dom_classes": [],
            "_model_module": "@jupyter-widgets/controls",
            "_model_module_version": "1.5.0",
            "_model_name": "FloatProgressModel",
            "_view_count": null,
            "_view_module": "@jupyter-widgets/controls",
            "_view_module_version": "1.5.0",
            "_view_name": "ProgressView",
            "bar_style": "success",
            "description": "",
            "description_tooltip": null,
            "layout": "IPY_MODEL_e6ec7632fba84a00b8621537b8d3ec6a",
            "max": 316,
            "min": 0,
            "orientation": "horizontal",
            "style": "IPY_MODEL_323867194c444bc3ad5a111548be1256",
            "value": 316
          }
        },
        "20ed13b41db54bca8a7e4fb53222530d": {
          "model_module": "@jupyter-widgets/controls",
          "model_name": "HTMLModel",
          "model_module_version": "1.5.0",
          "state": {
            "_dom_classes": [],
            "_model_module": "@jupyter-widgets/controls",
            "_model_module_version": "1.5.0",
            "_model_name": "HTMLModel",
            "_view_count": null,
            "_view_module": "@jupyter-widgets/controls",
            "_view_module_version": "1.5.0",
            "_view_name": "HTMLView",
            "description": "",
            "description_tooltip": null,
            "layout": "IPY_MODEL_611ad58cee024eca9bfc031946bc9c3b",
            "placeholder": "​",
            "style": "IPY_MODEL_6b180a1184304508888a615f0f55a0ce",
            "value": " 316/316 [00:00&lt;00:00, 31.5kB/s]"
          }
        },
        "cb22257040514b9bb1bb3d144a45a2cf": {
          "model_module": "@jupyter-widgets/base",
          "model_name": "LayoutModel",
          "model_module_version": "1.2.0",
          "state": {
            "_model_module": "@jupyter-widgets/base",
            "_model_module_version": "1.2.0",
            "_model_name": "LayoutModel",
            "_view_count": null,
            "_view_module": "@jupyter-widgets/base",
            "_view_module_version": "1.2.0",
            "_view_name": "LayoutView",
            "align_content": null,
            "align_items": null,
            "align_self": null,
            "border": null,
            "bottom": null,
            "display": null,
            "flex": null,
            "flex_flow": null,
            "grid_area": null,
            "grid_auto_columns": null,
            "grid_auto_flow": null,
            "grid_auto_rows": null,
            "grid_column": null,
            "grid_gap": null,
            "grid_row": null,
            "grid_template_areas": null,
            "grid_template_columns": null,
            "grid_template_rows": null,
            "height": null,
            "justify_content": null,
            "justify_items": null,
            "left": null,
            "margin": null,
            "max_height": null,
            "max_width": null,
            "min_height": null,
            "min_width": null,
            "object_fit": null,
            "object_position": null,
            "order": null,
            "overflow": null,
            "overflow_x": null,
            "overflow_y": null,
            "padding": null,
            "right": null,
            "top": null,
            "visibility": null,
            "width": null
          }
        },
        "e131dbc3cb6b4e729f725a59edc43cd1": {
          "model_module": "@jupyter-widgets/base",
          "model_name": "LayoutModel",
          "model_module_version": "1.2.0",
          "state": {
            "_model_module": "@jupyter-widgets/base",
            "_model_module_version": "1.2.0",
            "_model_name": "LayoutModel",
            "_view_count": null,
            "_view_module": "@jupyter-widgets/base",
            "_view_module_version": "1.2.0",
            "_view_name": "LayoutView",
            "align_content": null,
            "align_items": null,
            "align_self": null,
            "border": null,
            "bottom": null,
            "display": null,
            "flex": null,
            "flex_flow": null,
            "grid_area": null,
            "grid_auto_columns": null,
            "grid_auto_flow": null,
            "grid_auto_rows": null,
            "grid_column": null,
            "grid_gap": null,
            "grid_row": null,
            "grid_template_areas": null,
            "grid_template_columns": null,
            "grid_template_rows": null,
            "height": null,
            "justify_content": null,
            "justify_items": null,
            "left": null,
            "margin": null,
            "max_height": null,
            "max_width": null,
            "min_height": null,
            "min_width": null,
            "object_fit": null,
            "object_position": null,
            "order": null,
            "overflow": null,
            "overflow_x": null,
            "overflow_y": null,
            "padding": null,
            "right": null,
            "top": null,
            "visibility": null,
            "width": null
          }
        },
        "8a9c67d2ec8d40f29f1f2772693914b2": {
          "model_module": "@jupyter-widgets/controls",
          "model_name": "DescriptionStyleModel",
          "model_module_version": "1.5.0",
          "state": {
            "_model_module": "@jupyter-widgets/controls",
            "_model_module_version": "1.5.0",
            "_model_name": "DescriptionStyleModel",
            "_view_count": null,
            "_view_module": "@jupyter-widgets/base",
            "_view_module_version": "1.2.0",
            "_view_name": "StyleView",
            "description_width": ""
          }
        },
        "e6ec7632fba84a00b8621537b8d3ec6a": {
          "model_module": "@jupyter-widgets/base",
          "model_name": "LayoutModel",
          "model_module_version": "1.2.0",
          "state": {
            "_model_module": "@jupyter-widgets/base",
            "_model_module_version": "1.2.0",
            "_model_name": "LayoutModel",
            "_view_count": null,
            "_view_module": "@jupyter-widgets/base",
            "_view_module_version": "1.2.0",
            "_view_name": "LayoutView",
            "align_content": null,
            "align_items": null,
            "align_self": null,
            "border": null,
            "bottom": null,
            "display": null,
            "flex": null,
            "flex_flow": null,
            "grid_area": null,
            "grid_auto_columns": null,
            "grid_auto_flow": null,
            "grid_auto_rows": null,
            "grid_column": null,
            "grid_gap": null,
            "grid_row": null,
            "grid_template_areas": null,
            "grid_template_columns": null,
            "grid_template_rows": null,
            "height": null,
            "justify_content": null,
            "justify_items": null,
            "left": null,
            "margin": null,
            "max_height": null,
            "max_width": null,
            "min_height": null,
            "min_width": null,
            "object_fit": null,
            "object_position": null,
            "order": null,
            "overflow": null,
            "overflow_x": null,
            "overflow_y": null,
            "padding": null,
            "right": null,
            "top": null,
            "visibility": null,
            "width": null
          }
        },
        "323867194c444bc3ad5a111548be1256": {
          "model_module": "@jupyter-widgets/controls",
          "model_name": "ProgressStyleModel",
          "model_module_version": "1.5.0",
          "state": {
            "_model_module": "@jupyter-widgets/controls",
            "_model_module_version": "1.5.0",
            "_model_name": "ProgressStyleModel",
            "_view_count": null,
            "_view_module": "@jupyter-widgets/base",
            "_view_module_version": "1.2.0",
            "_view_name": "StyleView",
            "bar_color": null,
            "description_width": ""
          }
        },
        "611ad58cee024eca9bfc031946bc9c3b": {
          "model_module": "@jupyter-widgets/base",
          "model_name": "LayoutModel",
          "model_module_version": "1.2.0",
          "state": {
            "_model_module": "@jupyter-widgets/base",
            "_model_module_version": "1.2.0",
            "_model_name": "LayoutModel",
            "_view_count": null,
            "_view_module": "@jupyter-widgets/base",
            "_view_module_version": "1.2.0",
            "_view_name": "LayoutView",
            "align_content": null,
            "align_items": null,
            "align_self": null,
            "border": null,
            "bottom": null,
            "display": null,
            "flex": null,
            "flex_flow": null,
            "grid_area": null,
            "grid_auto_columns": null,
            "grid_auto_flow": null,
            "grid_auto_rows": null,
            "grid_column": null,
            "grid_gap": null,
            "grid_row": null,
            "grid_template_areas": null,
            "grid_template_columns": null,
            "grid_template_rows": null,
            "height": null,
            "justify_content": null,
            "justify_items": null,
            "left": null,
            "margin": null,
            "max_height": null,
            "max_width": null,
            "min_height": null,
            "min_width": null,
            "object_fit": null,
            "object_position": null,
            "order": null,
            "overflow": null,
            "overflow_x": null,
            "overflow_y": null,
            "padding": null,
            "right": null,
            "top": null,
            "visibility": null,
            "width": null
          }
        },
        "6b180a1184304508888a615f0f55a0ce": {
          "model_module": "@jupyter-widgets/controls",
          "model_name": "DescriptionStyleModel",
          "model_module_version": "1.5.0",
          "state": {
            "_model_module": "@jupyter-widgets/controls",
            "_model_module_version": "1.5.0",
            "_model_name": "DescriptionStyleModel",
            "_view_count": null,
            "_view_module": "@jupyter-widgets/base",
            "_view_module_version": "1.2.0",
            "_view_name": "StyleView",
            "description_width": ""
          }
        },
        "57b573abc6a741ed901e7cb4ef9caba5": {
          "model_module": "@jupyter-widgets/controls",
          "model_name": "HBoxModel",
          "model_module_version": "1.5.0",
          "state": {
            "_dom_classes": [],
            "_model_module": "@jupyter-widgets/controls",
            "_model_module_version": "1.5.0",
            "_model_name": "HBoxModel",
            "_view_count": null,
            "_view_module": "@jupyter-widgets/controls",
            "_view_module_version": "1.5.0",
            "_view_name": "HBoxView",
            "box_style": "",
            "children": [
              "IPY_MODEL_3a58c2a217894f7cb6f6e1eb1192e4d3",
              "IPY_MODEL_c35c604f2fda475dbf5917d75f8cf6f8",
              "IPY_MODEL_c674274c9d7042b08048477a42346394"
            ],
            "layout": "IPY_MODEL_55b981d44e8646f59bab3bb7472526e8"
          }
        },
        "3a58c2a217894f7cb6f6e1eb1192e4d3": {
          "model_module": "@jupyter-widgets/controls",
          "model_name": "HTMLModel",
          "model_module_version": "1.5.0",
          "state": {
            "_dom_classes": [],
            "_model_module": "@jupyter-widgets/controls",
            "_model_module_version": "1.5.0",
            "_model_name": "HTMLModel",
            "_view_count": null,
            "_view_module": "@jupyter-widgets/controls",
            "_view_module_version": "1.5.0",
            "_view_name": "HTMLView",
            "description": "",
            "description_tooltip": null,
            "layout": "IPY_MODEL_a983de2b43464b9c9fdcf11cce5e5d5a",
            "placeholder": "​",
            "style": "IPY_MODEL_4a87849d89c04d768ed1422d1d03d7b8",
            "value": "Downloading data: 100%"
          }
        },
        "c35c604f2fda475dbf5917d75f8cf6f8": {
          "model_module": "@jupyter-widgets/controls",
          "model_name": "FloatProgressModel",
          "model_module_version": "1.5.0",
          "state": {
            "_dom_classes": [],
            "_model_module": "@jupyter-widgets/controls",
            "_model_module_version": "1.5.0",
            "_model_name": "FloatProgressModel",
            "_view_count": null,
            "_view_module": "@jupyter-widgets/controls",
            "_view_module_version": "1.5.0",
            "_view_name": "ProgressView",
            "bar_style": "success",
            "description": "",
            "description_tooltip": null,
            "layout": "IPY_MODEL_c8631b2e69444e75903d19aef2a38ec3",
            "max": 3787735,
            "min": 0,
            "orientation": "horizontal",
            "style": "IPY_MODEL_b3901d569b7b4a88b90b206c1e028db2",
            "value": 3787735
          }
        },
        "c674274c9d7042b08048477a42346394": {
          "model_module": "@jupyter-widgets/controls",
          "model_name": "HTMLModel",
          "model_module_version": "1.5.0",
          "state": {
            "_dom_classes": [],
            "_model_module": "@jupyter-widgets/controls",
            "_model_module_version": "1.5.0",
            "_model_name": "HTMLModel",
            "_view_count": null,
            "_view_module": "@jupyter-widgets/controls",
            "_view_module_version": "1.5.0",
            "_view_name": "HTMLView",
            "description": "",
            "description_tooltip": null,
            "layout": "IPY_MODEL_7829e5a188784ae4812f2ad820e9f9e7",
            "placeholder": "​",
            "style": "IPY_MODEL_1d4d9e182c564d298bae574a78dc1478",
            "value": " 3.79M/3.79M [00:00&lt;00:00, 290kB/s]"
          }
        },
        "55b981d44e8646f59bab3bb7472526e8": {
          "model_module": "@jupyter-widgets/base",
          "model_name": "LayoutModel",
          "model_module_version": "1.2.0",
          "state": {
            "_model_module": "@jupyter-widgets/base",
            "_model_module_version": "1.2.0",
            "_model_name": "LayoutModel",
            "_view_count": null,
            "_view_module": "@jupyter-widgets/base",
            "_view_module_version": "1.2.0",
            "_view_name": "LayoutView",
            "align_content": null,
            "align_items": null,
            "align_self": null,
            "border": null,
            "bottom": null,
            "display": null,
            "flex": null,
            "flex_flow": null,
            "grid_area": null,
            "grid_auto_columns": null,
            "grid_auto_flow": null,
            "grid_auto_rows": null,
            "grid_column": null,
            "grid_gap": null,
            "grid_row": null,
            "grid_template_areas": null,
            "grid_template_columns": null,
            "grid_template_rows": null,
            "height": null,
            "justify_content": null,
            "justify_items": null,
            "left": null,
            "margin": null,
            "max_height": null,
            "max_width": null,
            "min_height": null,
            "min_width": null,
            "object_fit": null,
            "object_position": null,
            "order": null,
            "overflow": null,
            "overflow_x": null,
            "overflow_y": null,
            "padding": null,
            "right": null,
            "top": null,
            "visibility": null,
            "width": null
          }
        },
        "a983de2b43464b9c9fdcf11cce5e5d5a": {
          "model_module": "@jupyter-widgets/base",
          "model_name": "LayoutModel",
          "model_module_version": "1.2.0",
          "state": {
            "_model_module": "@jupyter-widgets/base",
            "_model_module_version": "1.2.0",
            "_model_name": "LayoutModel",
            "_view_count": null,
            "_view_module": "@jupyter-widgets/base",
            "_view_module_version": "1.2.0",
            "_view_name": "LayoutView",
            "align_content": null,
            "align_items": null,
            "align_self": null,
            "border": null,
            "bottom": null,
            "display": null,
            "flex": null,
            "flex_flow": null,
            "grid_area": null,
            "grid_auto_columns": null,
            "grid_auto_flow": null,
            "grid_auto_rows": null,
            "grid_column": null,
            "grid_gap": null,
            "grid_row": null,
            "grid_template_areas": null,
            "grid_template_columns": null,
            "grid_template_rows": null,
            "height": null,
            "justify_content": null,
            "justify_items": null,
            "left": null,
            "margin": null,
            "max_height": null,
            "max_width": null,
            "min_height": null,
            "min_width": null,
            "object_fit": null,
            "object_position": null,
            "order": null,
            "overflow": null,
            "overflow_x": null,
            "overflow_y": null,
            "padding": null,
            "right": null,
            "top": null,
            "visibility": null,
            "width": null
          }
        },
        "4a87849d89c04d768ed1422d1d03d7b8": {
          "model_module": "@jupyter-widgets/controls",
          "model_name": "DescriptionStyleModel",
          "model_module_version": "1.5.0",
          "state": {
            "_model_module": "@jupyter-widgets/controls",
            "_model_module_version": "1.5.0",
            "_model_name": "DescriptionStyleModel",
            "_view_count": null,
            "_view_module": "@jupyter-widgets/base",
            "_view_module_version": "1.2.0",
            "_view_name": "StyleView",
            "description_width": ""
          }
        },
        "c8631b2e69444e75903d19aef2a38ec3": {
          "model_module": "@jupyter-widgets/base",
          "model_name": "LayoutModel",
          "model_module_version": "1.2.0",
          "state": {
            "_model_module": "@jupyter-widgets/base",
            "_model_module_version": "1.2.0",
            "_model_name": "LayoutModel",
            "_view_count": null,
            "_view_module": "@jupyter-widgets/base",
            "_view_module_version": "1.2.0",
            "_view_name": "LayoutView",
            "align_content": null,
            "align_items": null,
            "align_self": null,
            "border": null,
            "bottom": null,
            "display": null,
            "flex": null,
            "flex_flow": null,
            "grid_area": null,
            "grid_auto_columns": null,
            "grid_auto_flow": null,
            "grid_auto_rows": null,
            "grid_column": null,
            "grid_gap": null,
            "grid_row": null,
            "grid_template_areas": null,
            "grid_template_columns": null,
            "grid_template_rows": null,
            "height": null,
            "justify_content": null,
            "justify_items": null,
            "left": null,
            "margin": null,
            "max_height": null,
            "max_width": null,
            "min_height": null,
            "min_width": null,
            "object_fit": null,
            "object_position": null,
            "order": null,
            "overflow": null,
            "overflow_x": null,
            "overflow_y": null,
            "padding": null,
            "right": null,
            "top": null,
            "visibility": null,
            "width": null
          }
        },
        "b3901d569b7b4a88b90b206c1e028db2": {
          "model_module": "@jupyter-widgets/controls",
          "model_name": "ProgressStyleModel",
          "model_module_version": "1.5.0",
          "state": {
            "_model_module": "@jupyter-widgets/controls",
            "_model_module_version": "1.5.0",
            "_model_name": "ProgressStyleModel",
            "_view_count": null,
            "_view_module": "@jupyter-widgets/base",
            "_view_module_version": "1.2.0",
            "_view_name": "StyleView",
            "bar_color": null,
            "description_width": ""
          }
        },
        "7829e5a188784ae4812f2ad820e9f9e7": {
          "model_module": "@jupyter-widgets/base",
          "model_name": "LayoutModel",
          "model_module_version": "1.2.0",
          "state": {
            "_model_module": "@jupyter-widgets/base",
            "_model_module_version": "1.2.0",
            "_model_name": "LayoutModel",
            "_view_count": null,
            "_view_module": "@jupyter-widgets/base",
            "_view_module_version": "1.2.0",
            "_view_name": "LayoutView",
            "align_content": null,
            "align_items": null,
            "align_self": null,
            "border": null,
            "bottom": null,
            "display": null,
            "flex": null,
            "flex_flow": null,
            "grid_area": null,
            "grid_auto_columns": null,
            "grid_auto_flow": null,
            "grid_auto_rows": null,
            "grid_column": null,
            "grid_gap": null,
            "grid_row": null,
            "grid_template_areas": null,
            "grid_template_columns": null,
            "grid_template_rows": null,
            "height": null,
            "justify_content": null,
            "justify_items": null,
            "left": null,
            "margin": null,
            "max_height": null,
            "max_width": null,
            "min_height": null,
            "min_width": null,
            "object_fit": null,
            "object_position": null,
            "order": null,
            "overflow": null,
            "overflow_x": null,
            "overflow_y": null,
            "padding": null,
            "right": null,
            "top": null,
            "visibility": null,
            "width": null
          }
        },
        "1d4d9e182c564d298bae574a78dc1478": {
          "model_module": "@jupyter-widgets/controls",
          "model_name": "DescriptionStyleModel",
          "model_module_version": "1.5.0",
          "state": {
            "_model_module": "@jupyter-widgets/controls",
            "_model_module_version": "1.5.0",
            "_model_name": "DescriptionStyleModel",
            "_view_count": null,
            "_view_module": "@jupyter-widgets/base",
            "_view_module_version": "1.2.0",
            "_view_name": "StyleView",
            "description_width": ""
          }
        },
        "22107a99fadf4944b41c64d9606f0f6f": {
          "model_module": "@jupyter-widgets/controls",
          "model_name": "HBoxModel",
          "model_module_version": "1.5.0",
          "state": {
            "_dom_classes": [],
            "_model_module": "@jupyter-widgets/controls",
            "_model_module_version": "1.5.0",
            "_model_name": "HBoxModel",
            "_view_count": null,
            "_view_module": "@jupyter-widgets/controls",
            "_view_module_version": "1.5.0",
            "_view_name": "HBoxView",
            "box_style": "",
            "children": [
              "IPY_MODEL_02fc808e43f54c3f84ece0eaf08934ff",
              "IPY_MODEL_038683a7008a42ccaae8d7e35d55457d",
              "IPY_MODEL_f82c7f45f975460989ecb4ec92df46f4"
            ],
            "layout": "IPY_MODEL_85e9cd2268c84993a76a57ae7a92aea0"
          }
        },
        "02fc808e43f54c3f84ece0eaf08934ff": {
          "model_module": "@jupyter-widgets/controls",
          "model_name": "HTMLModel",
          "model_module_version": "1.5.0",
          "state": {
            "_dom_classes": [],
            "_model_module": "@jupyter-widgets/controls",
            "_model_module_version": "1.5.0",
            "_model_name": "HTMLModel",
            "_view_count": null,
            "_view_module": "@jupyter-widgets/controls",
            "_view_module_version": "1.5.0",
            "_view_name": "HTMLView",
            "description": "",
            "description_tooltip": null,
            "layout": "IPY_MODEL_7dd8fa5ce9fb4ab98d9a5d6105ffda10",
            "placeholder": "​",
            "style": "IPY_MODEL_83d1bb71ca22409dbe8f71ab4902298f",
            "value": "Generating train split: "
          }
        },
        "038683a7008a42ccaae8d7e35d55457d": {
          "model_module": "@jupyter-widgets/controls",
          "model_name": "FloatProgressModel",
          "model_module_version": "1.5.0",
          "state": {
            "_dom_classes": [],
            "_model_module": "@jupyter-widgets/controls",
            "_model_module_version": "1.5.0",
            "_model_name": "FloatProgressModel",
            "_view_count": null,
            "_view_module": "@jupyter-widgets/controls",
            "_view_module_version": "1.5.0",
            "_view_name": "ProgressView",
            "bar_style": "success",
            "description": "",
            "description_tooltip": null,
            "layout": "IPY_MODEL_4d7f2ae0129d4e1db0781739fba20a46",
            "max": 1,
            "min": 0,
            "orientation": "horizontal",
            "style": "IPY_MODEL_fee09bee960f450d8e9242c3c4f2c584",
            "value": 1
          }
        },
        "f82c7f45f975460989ecb4ec92df46f4": {
          "model_module": "@jupyter-widgets/controls",
          "model_name": "HTMLModel",
          "model_module_version": "1.5.0",
          "state": {
            "_dom_classes": [],
            "_model_module": "@jupyter-widgets/controls",
            "_model_module_version": "1.5.0",
            "_model_name": "HTMLModel",
            "_view_count": null,
            "_view_module": "@jupyter-widgets/controls",
            "_view_module_version": "1.5.0",
            "_view_name": "HTMLView",
            "description": "",
            "description_tooltip": null,
            "layout": "IPY_MODEL_0d8e512acfa74c43be112375f15a6cb1",
            "placeholder": "​",
            "style": "IPY_MODEL_0c01b6ed10244b07a8bc06aa2e796432",
            "value": " 1000/0 [00:00&lt;00:00, 11936.08 examples/s]"
          }
        },
        "85e9cd2268c84993a76a57ae7a92aea0": {
          "model_module": "@jupyter-widgets/base",
          "model_name": "LayoutModel",
          "model_module_version": "1.2.0",
          "state": {
            "_model_module": "@jupyter-widgets/base",
            "_model_module_version": "1.2.0",
            "_model_name": "LayoutModel",
            "_view_count": null,
            "_view_module": "@jupyter-widgets/base",
            "_view_module_version": "1.2.0",
            "_view_name": "LayoutView",
            "align_content": null,
            "align_items": null,
            "align_self": null,
            "border": null,
            "bottom": null,
            "display": null,
            "flex": null,
            "flex_flow": null,
            "grid_area": null,
            "grid_auto_columns": null,
            "grid_auto_flow": null,
            "grid_auto_rows": null,
            "grid_column": null,
            "grid_gap": null,
            "grid_row": null,
            "grid_template_areas": null,
            "grid_template_columns": null,
            "grid_template_rows": null,
            "height": null,
            "justify_content": null,
            "justify_items": null,
            "left": null,
            "margin": null,
            "max_height": null,
            "max_width": null,
            "min_height": null,
            "min_width": null,
            "object_fit": null,
            "object_position": null,
            "order": null,
            "overflow": null,
            "overflow_x": null,
            "overflow_y": null,
            "padding": null,
            "right": null,
            "top": null,
            "visibility": null,
            "width": null
          }
        },
        "7dd8fa5ce9fb4ab98d9a5d6105ffda10": {
          "model_module": "@jupyter-widgets/base",
          "model_name": "LayoutModel",
          "model_module_version": "1.2.0",
          "state": {
            "_model_module": "@jupyter-widgets/base",
            "_model_module_version": "1.2.0",
            "_model_name": "LayoutModel",
            "_view_count": null,
            "_view_module": "@jupyter-widgets/base",
            "_view_module_version": "1.2.0",
            "_view_name": "LayoutView",
            "align_content": null,
            "align_items": null,
            "align_self": null,
            "border": null,
            "bottom": null,
            "display": null,
            "flex": null,
            "flex_flow": null,
            "grid_area": null,
            "grid_auto_columns": null,
            "grid_auto_flow": null,
            "grid_auto_rows": null,
            "grid_column": null,
            "grid_gap": null,
            "grid_row": null,
            "grid_template_areas": null,
            "grid_template_columns": null,
            "grid_template_rows": null,
            "height": null,
            "justify_content": null,
            "justify_items": null,
            "left": null,
            "margin": null,
            "max_height": null,
            "max_width": null,
            "min_height": null,
            "min_width": null,
            "object_fit": null,
            "object_position": null,
            "order": null,
            "overflow": null,
            "overflow_x": null,
            "overflow_y": null,
            "padding": null,
            "right": null,
            "top": null,
            "visibility": null,
            "width": null
          }
        },
        "83d1bb71ca22409dbe8f71ab4902298f": {
          "model_module": "@jupyter-widgets/controls",
          "model_name": "DescriptionStyleModel",
          "model_module_version": "1.5.0",
          "state": {
            "_model_module": "@jupyter-widgets/controls",
            "_model_module_version": "1.5.0",
            "_model_name": "DescriptionStyleModel",
            "_view_count": null,
            "_view_module": "@jupyter-widgets/base",
            "_view_module_version": "1.2.0",
            "_view_name": "StyleView",
            "description_width": ""
          }
        },
        "4d7f2ae0129d4e1db0781739fba20a46": {
          "model_module": "@jupyter-widgets/base",
          "model_name": "LayoutModel",
          "model_module_version": "1.2.0",
          "state": {
            "_model_module": "@jupyter-widgets/base",
            "_model_module_version": "1.2.0",
            "_model_name": "LayoutModel",
            "_view_count": null,
            "_view_module": "@jupyter-widgets/base",
            "_view_module_version": "1.2.0",
            "_view_name": "LayoutView",
            "align_content": null,
            "align_items": null,
            "align_self": null,
            "border": null,
            "bottom": null,
            "display": null,
            "flex": null,
            "flex_flow": null,
            "grid_area": null,
            "grid_auto_columns": null,
            "grid_auto_flow": null,
            "grid_auto_rows": null,
            "grid_column": null,
            "grid_gap": null,
            "grid_row": null,
            "grid_template_areas": null,
            "grid_template_columns": null,
            "grid_template_rows": null,
            "height": null,
            "justify_content": null,
            "justify_items": null,
            "left": null,
            "margin": null,
            "max_height": null,
            "max_width": null,
            "min_height": null,
            "min_width": null,
            "object_fit": null,
            "object_position": null,
            "order": null,
            "overflow": null,
            "overflow_x": null,
            "overflow_y": null,
            "padding": null,
            "right": null,
            "top": null,
            "visibility": null,
            "width": "20px"
          }
        },
        "fee09bee960f450d8e9242c3c4f2c584": {
          "model_module": "@jupyter-widgets/controls",
          "model_name": "ProgressStyleModel",
          "model_module_version": "1.5.0",
          "state": {
            "_model_module": "@jupyter-widgets/controls",
            "_model_module_version": "1.5.0",
            "_model_name": "ProgressStyleModel",
            "_view_count": null,
            "_view_module": "@jupyter-widgets/base",
            "_view_module_version": "1.2.0",
            "_view_name": "StyleView",
            "bar_color": null,
            "description_width": ""
          }
        },
        "0d8e512acfa74c43be112375f15a6cb1": {
          "model_module": "@jupyter-widgets/base",
          "model_name": "LayoutModel",
          "model_module_version": "1.2.0",
          "state": {
            "_model_module": "@jupyter-widgets/base",
            "_model_module_version": "1.2.0",
            "_model_name": "LayoutModel",
            "_view_count": null,
            "_view_module": "@jupyter-widgets/base",
            "_view_module_version": "1.2.0",
            "_view_name": "LayoutView",
            "align_content": null,
            "align_items": null,
            "align_self": null,
            "border": null,
            "bottom": null,
            "display": null,
            "flex": null,
            "flex_flow": null,
            "grid_area": null,
            "grid_auto_columns": null,
            "grid_auto_flow": null,
            "grid_auto_rows": null,
            "grid_column": null,
            "grid_gap": null,
            "grid_row": null,
            "grid_template_areas": null,
            "grid_template_columns": null,
            "grid_template_rows": null,
            "height": null,
            "justify_content": null,
            "justify_items": null,
            "left": null,
            "margin": null,
            "max_height": null,
            "max_width": null,
            "min_height": null,
            "min_width": null,
            "object_fit": null,
            "object_position": null,
            "order": null,
            "overflow": null,
            "overflow_x": null,
            "overflow_y": null,
            "padding": null,
            "right": null,
            "top": null,
            "visibility": null,
            "width": null
          }
        },
        "0c01b6ed10244b07a8bc06aa2e796432": {
          "model_module": "@jupyter-widgets/controls",
          "model_name": "DescriptionStyleModel",
          "model_module_version": "1.5.0",
          "state": {
            "_model_module": "@jupyter-widgets/controls",
            "_model_module_version": "1.5.0",
            "_model_name": "DescriptionStyleModel",
            "_view_count": null,
            "_view_module": "@jupyter-widgets/base",
            "_view_module_version": "1.2.0",
            "_view_name": "StyleView",
            "description_width": ""
          }
        }
      }
    }
  },
  "cells": [
    {
      "cell_type": "markdown",
      "source": [
        "##  First Initialise the API"
      ],
      "metadata": {
        "id": "UuMDZze0Ta11"
      }
    },
    {
      "cell_type": "code",
      "source": [
        "gpt_api = \"\" ## Openai api\n",
        "openrouter_api = \"\" ## openrouter api\n",
        "Hugging_Face = \"\" # HF API"
      ],
      "metadata": {
        "id": "yUg1KLGVTf7K"
      },
      "execution_count": null,
      "outputs": []
    },
    {
      "cell_type": "code",
      "execution_count": null,
      "metadata": {
        "colab": {
          "base_uri": "https://localhost:8080/"
        },
        "id": "Ev6I6hEfXErs",
        "outputId": "606dbae8-8735-4645-d979-b06d0aff480c"
      },
      "outputs": [
        {
          "output_type": "stream",
          "name": "stdout",
          "text": [
            "Found existing installation: datasets 4.0.0\n",
            "Uninstalling datasets-4.0.0:\n",
            "  Would remove:\n",
            "    /usr/local/bin/datasets-cli\n",
            "    /usr/local/lib/python3.12/dist-packages/datasets-4.0.0.dist-info/*\n",
            "    /usr/local/lib/python3.12/dist-packages/datasets/*\n",
            "Proceed (Y/n)? y\n",
            "  Successfully uninstalled datasets-4.0.0\n",
            "Collecting datasets==2.16.1\n",
            "  Downloading datasets-2.16.1-py3-none-any.whl.metadata (20 kB)\n",
            "Requirement already satisfied: filelock in /usr/local/lib/python3.12/dist-packages (from datasets==2.16.1) (3.19.1)\n",
            "Requirement already satisfied: numpy>=1.17 in /usr/local/lib/python3.12/dist-packages (from datasets==2.16.1) (2.0.2)\n",
            "Requirement already satisfied: pyarrow>=8.0.0 in /usr/local/lib/python3.12/dist-packages (from datasets==2.16.1) (18.1.0)\n",
            "Collecting pyarrow-hotfix (from datasets==2.16.1)\n",
            "  Downloading pyarrow_hotfix-0.7-py3-none-any.whl.metadata (3.6 kB)\n",
            "Collecting dill<0.3.8,>=0.3.0 (from datasets==2.16.1)\n",
            "  Downloading dill-0.3.7-py3-none-any.whl.metadata (9.9 kB)\n",
            "Requirement already satisfied: pandas in /usr/local/lib/python3.12/dist-packages (from datasets==2.16.1) (2.2.2)\n",
            "Requirement already satisfied: requests>=2.19.0 in /usr/local/lib/python3.12/dist-packages (from datasets==2.16.1) (2.32.4)\n",
            "Requirement already satisfied: tqdm>=4.62.1 in /usr/local/lib/python3.12/dist-packages (from datasets==2.16.1) (4.67.1)\n",
            "Requirement already satisfied: xxhash in /usr/local/lib/python3.12/dist-packages (from datasets==2.16.1) (3.5.0)\n",
            "Requirement already satisfied: multiprocess in /usr/local/lib/python3.12/dist-packages (from datasets==2.16.1) (0.70.16)\n",
            "Collecting fsspec<=2023.10.0,>=2023.1.0 (from fsspec[http]<=2023.10.0,>=2023.1.0->datasets==2.16.1)\n",
            "  Downloading fsspec-2023.10.0-py3-none-any.whl.metadata (6.8 kB)\n",
            "Requirement already satisfied: aiohttp in /usr/local/lib/python3.12/dist-packages (from datasets==2.16.1) (3.12.15)\n",
            "Requirement already satisfied: huggingface-hub>=0.19.4 in /usr/local/lib/python3.12/dist-packages (from datasets==2.16.1) (0.35.0)\n",
            "Requirement already satisfied: packaging in /usr/local/lib/python3.12/dist-packages (from datasets==2.16.1) (25.0)\n",
            "Requirement already satisfied: pyyaml>=5.1 in /usr/local/lib/python3.12/dist-packages (from datasets==2.16.1) (6.0.2)\n",
            "Requirement already satisfied: aiohappyeyeballs>=2.5.0 in /usr/local/lib/python3.12/dist-packages (from aiohttp->datasets==2.16.1) (2.6.1)\n",
            "Requirement already satisfied: aiosignal>=1.4.0 in /usr/local/lib/python3.12/dist-packages (from aiohttp->datasets==2.16.1) (1.4.0)\n",
            "Requirement already satisfied: attrs>=17.3.0 in /usr/local/lib/python3.12/dist-packages (from aiohttp->datasets==2.16.1) (25.3.0)\n",
            "Requirement already satisfied: frozenlist>=1.1.1 in /usr/local/lib/python3.12/dist-packages (from aiohttp->datasets==2.16.1) (1.7.0)\n",
            "Requirement already satisfied: multidict<7.0,>=4.5 in /usr/local/lib/python3.12/dist-packages (from aiohttp->datasets==2.16.1) (6.6.4)\n",
            "Requirement already satisfied: propcache>=0.2.0 in /usr/local/lib/python3.12/dist-packages (from aiohttp->datasets==2.16.1) (0.3.2)\n",
            "Requirement already satisfied: yarl<2.0,>=1.17.0 in /usr/local/lib/python3.12/dist-packages (from aiohttp->datasets==2.16.1) (1.20.1)\n",
            "Requirement already satisfied: typing-extensions>=3.7.4.3 in /usr/local/lib/python3.12/dist-packages (from huggingface-hub>=0.19.4->datasets==2.16.1) (4.15.0)\n",
            "Requirement already satisfied: hf-xet<2.0.0,>=1.1.3 in /usr/local/lib/python3.12/dist-packages (from huggingface-hub>=0.19.4->datasets==2.16.1) (1.1.10)\n",
            "Requirement already satisfied: charset_normalizer<4,>=2 in /usr/local/lib/python3.12/dist-packages (from requests>=2.19.0->datasets==2.16.1) (3.4.3)\n",
            "Requirement already satisfied: idna<4,>=2.5 in /usr/local/lib/python3.12/dist-packages (from requests>=2.19.0->datasets==2.16.1) (3.10)\n",
            "Requirement already satisfied: urllib3<3,>=1.21.1 in /usr/local/lib/python3.12/dist-packages (from requests>=2.19.0->datasets==2.16.1) (2.5.0)\n",
            "Requirement already satisfied: certifi>=2017.4.17 in /usr/local/lib/python3.12/dist-packages (from requests>=2.19.0->datasets==2.16.1) (2025.8.3)\n",
            "INFO: pip is looking at multiple versions of multiprocess to determine which version is compatible with other requirements. This could take a while.\n",
            "Collecting multiprocess (from datasets==2.16.1)\n",
            "  Downloading multiprocess-0.70.18-py312-none-any.whl.metadata (7.5 kB)\n",
            "  Downloading multiprocess-0.70.17-py312-none-any.whl.metadata (7.2 kB)\n",
            "  Downloading multiprocess-0.70.15-py311-none-any.whl.metadata (7.2 kB)\n",
            "Requirement already satisfied: python-dateutil>=2.8.2 in /usr/local/lib/python3.12/dist-packages (from pandas->datasets==2.16.1) (2.9.0.post0)\n",
            "Requirement already satisfied: pytz>=2020.1 in /usr/local/lib/python3.12/dist-packages (from pandas->datasets==2.16.1) (2025.2)\n",
            "Requirement already satisfied: tzdata>=2022.7 in /usr/local/lib/python3.12/dist-packages (from pandas->datasets==2.16.1) (2025.2)\n",
            "Requirement already satisfied: six>=1.5 in /usr/local/lib/python3.12/dist-packages (from python-dateutil>=2.8.2->pandas->datasets==2.16.1) (1.17.0)\n",
            "Downloading datasets-2.16.1-py3-none-any.whl (507 kB)\n",
            "\u001b[2K   \u001b[90m━━━━━━━━━━━━━━━━━━━━━━━━━━━━━━━━━━━━━━━━\u001b[0m \u001b[32m507.1/507.1 kB\u001b[0m \u001b[31m9.9 MB/s\u001b[0m eta \u001b[36m0:00:00\u001b[0m\n",
            "\u001b[?25hDownloading dill-0.3.7-py3-none-any.whl (115 kB)\n",
            "\u001b[2K   \u001b[90m━━━━━━━━━━━━━━━━━━━━━━━━━━━━━━━━━━━━━━━━\u001b[0m \u001b[32m115.3/115.3 kB\u001b[0m \u001b[31m9.9 MB/s\u001b[0m eta \u001b[36m0:00:00\u001b[0m\n",
            "\u001b[?25hDownloading fsspec-2023.10.0-py3-none-any.whl (166 kB)\n",
            "\u001b[2K   \u001b[90m━━━━━━━━━━━━━━━━━━━━━━━━━━━━━━━━━━━━━━━━\u001b[0m \u001b[32m166.4/166.4 kB\u001b[0m \u001b[31m13.2 MB/s\u001b[0m eta \u001b[36m0:00:00\u001b[0m\n",
            "\u001b[?25hDownloading multiprocess-0.70.15-py311-none-any.whl (135 kB)\n",
            "\u001b[2K   \u001b[90m━━━━━━━━━━━━━━━━━━━━━━━━━━━━━━━━━━━━━━━━\u001b[0m \u001b[32m135.4/135.4 kB\u001b[0m \u001b[31m8.7 MB/s\u001b[0m eta \u001b[36m0:00:00\u001b[0m\n",
            "\u001b[?25hDownloading pyarrow_hotfix-0.7-py3-none-any.whl (7.9 kB)\n",
            "Installing collected packages: pyarrow-hotfix, fsspec, dill, multiprocess, datasets\n",
            "  Attempting uninstall: fsspec\n",
            "    Found existing installation: fsspec 2025.3.0\n",
            "    Uninstalling fsspec-2025.3.0:\n",
            "      Successfully uninstalled fsspec-2025.3.0\n",
            "  Attempting uninstall: dill\n",
            "    Found existing installation: dill 0.3.8\n",
            "    Uninstalling dill-0.3.8:\n",
            "      Successfully uninstalled dill-0.3.8\n",
            "  Attempting uninstall: multiprocess\n",
            "    Found existing installation: multiprocess 0.70.16\n",
            "    Uninstalling multiprocess-0.70.16:\n",
            "      Successfully uninstalled multiprocess-0.70.16\n",
            "\u001b[31mERROR: pip's dependency resolver does not currently take into account all the packages that are installed. This behaviour is the source of the following dependency conflicts.\n",
            "gcsfs 2025.3.0 requires fsspec==2025.3.0, but you have fsspec 2023.10.0 which is incompatible.\u001b[0m\u001b[31m\n",
            "\u001b[0mSuccessfully installed datasets-2.16.1 dill-0.3.7 fsspec-2023.10.0 multiprocess-0.70.15 pyarrow-hotfix-0.7\n"
          ]
        }
      ],
      "source": [
        "!pip uninstall -y datasets\n",
        "!pip install datasets==2.16.1\n"
      ]
    },
    {
      "cell_type": "code",
      "source": [
        "# !hf auth login\n",
        "import huggingface_hub\n",
        "\n",
        "huggingface_hub.login( token =  Hugging_Face, add_to_git_credential = False)"
      ],
      "metadata": {
        "colab": {
          "base_uri": "https://localhost:8080/"
        },
        "id": "W1VGSguDXOJ-",
        "outputId": "c1f75e20-bd29-445b-bddb-d820e968fcb7"
      },
      "execution_count": null,
      "outputs": [
        {
          "output_type": "stream",
          "name": "stdout",
          "text": [
            "\n",
            "    _|    _|  _|    _|    _|_|_|    _|_|_|  _|_|_|  _|      _|    _|_|_|      _|_|_|_|    _|_|      _|_|_|  _|_|_|_|\n",
            "    _|    _|  _|    _|  _|        _|          _|    _|_|    _|  _|            _|        _|    _|  _|        _|\n",
            "    _|_|_|_|  _|    _|  _|  _|_|  _|  _|_|    _|    _|  _|  _|  _|  _|_|      _|_|_|    _|_|_|_|  _|        _|_|_|\n",
            "    _|    _|  _|    _|  _|    _|  _|    _|    _|    _|    _|_|  _|    _|      _|        _|    _|  _|        _|\n",
            "    _|    _|    _|_|      _|_|_|    _|_|_|  _|_|_|  _|      _|    _|_|_|      _|        _|    _|    _|_|_|  _|_|_|_|\n",
            "\n",
            "    To log in, `huggingface_hub` requires a token generated from https://huggingface.co/settings/tokens .\n",
            "Enter your token (input will not be visible): \n",
            "Add token as git credential? (Y/n) n\n",
            "Token is valid (permission: fineGrained).\n",
            "The token `testing` has been saved to /root/.cache/huggingface/stored_tokens\n",
            "Your token has been saved to /root/.cache/huggingface/token\n",
            "Login successful.\n",
            "The current active token is: `testing`\n"
          ]
        }
      ]
    },
    {
      "cell_type": "code",
      "source": [
        "from datasets import load_dataset\n",
        "\n",
        "ds = load_dataset(\"code-rag-bench/ds1000\")"
      ],
      "metadata": {
        "colab": {
          "base_uri": "https://localhost:8080/",
          "height": 242,
          "referenced_widgets": [
            "4bd1b644dde74a498962682f2ac4c6b0",
            "783d33feed2d4cb0b7dc89ec60fc64f3",
            "3ff5725535674ca091f2037fcfdcd9ce",
            "20ed13b41db54bca8a7e4fb53222530d",
            "cb22257040514b9bb1bb3d144a45a2cf",
            "e131dbc3cb6b4e729f725a59edc43cd1",
            "8a9c67d2ec8d40f29f1f2772693914b2",
            "e6ec7632fba84a00b8621537b8d3ec6a",
            "323867194c444bc3ad5a111548be1256",
            "611ad58cee024eca9bfc031946bc9c3b",
            "6b180a1184304508888a615f0f55a0ce",
            "57b573abc6a741ed901e7cb4ef9caba5",
            "3a58c2a217894f7cb6f6e1eb1192e4d3",
            "c35c604f2fda475dbf5917d75f8cf6f8",
            "c674274c9d7042b08048477a42346394",
            "55b981d44e8646f59bab3bb7472526e8",
            "a983de2b43464b9c9fdcf11cce5e5d5a",
            "4a87849d89c04d768ed1422d1d03d7b8",
            "c8631b2e69444e75903d19aef2a38ec3",
            "b3901d569b7b4a88b90b206c1e028db2",
            "7829e5a188784ae4812f2ad820e9f9e7",
            "1d4d9e182c564d298bae574a78dc1478",
            "22107a99fadf4944b41c64d9606f0f6f",
            "02fc808e43f54c3f84ece0eaf08934ff",
            "038683a7008a42ccaae8d7e35d55457d",
            "f82c7f45f975460989ecb4ec92df46f4",
            "85e9cd2268c84993a76a57ae7a92aea0",
            "7dd8fa5ce9fb4ab98d9a5d6105ffda10",
            "83d1bb71ca22409dbe8f71ab4902298f",
            "4d7f2ae0129d4e1db0781739fba20a46",
            "fee09bee960f450d8e9242c3c4f2c584",
            "0d8e512acfa74c43be112375f15a6cb1",
            "0c01b6ed10244b07a8bc06aa2e796432"
          ]
        },
        "id": "LjfuSyHsXTmk",
        "outputId": "7a5c2a3a-e2cf-45e1-f13f-7ed8c968d701"
      },
      "execution_count": null,
      "outputs": [
        {
          "output_type": "stream",
          "name": "stderr",
          "text": [
            "/usr/local/lib/python3.12/dist-packages/huggingface_hub/utils/_auth.py:94: UserWarning: \n",
            "The secret `HF_TOKEN` does not exist in your Colab secrets.\n",
            "To authenticate with the Hugging Face Hub, create a token in your settings tab (https://huggingface.co/settings/tokens), set it as secret in your Google Colab and restart your session.\n",
            "You will be able to reuse this secret in all of your notebooks.\n",
            "Please note that authentication is recommended but still optional to access public models or datasets.\n",
            "  warnings.warn(\n"
          ]
        },
        {
          "output_type": "display_data",
          "data": {
            "text/plain": [
              "Downloading readme:   0%|          | 0.00/316 [00:00<?, ?B/s]"
            ],
            "application/vnd.jupyter.widget-view+json": {
              "version_major": 2,
              "version_minor": 0,
              "model_id": "4bd1b644dde74a498962682f2ac4c6b0"
            }
          },
          "metadata": {}
        },
        {
          "output_type": "display_data",
          "data": {
            "text/plain": [
              "Downloading data:   0%|          | 0.00/3.79M [00:00<?, ?B/s]"
            ],
            "application/vnd.jupyter.widget-view+json": {
              "version_major": 2,
              "version_minor": 0,
              "model_id": "57b573abc6a741ed901e7cb4ef9caba5"
            }
          },
          "metadata": {}
        },
        {
          "output_type": "display_data",
          "data": {
            "text/plain": [
              "Generating train split: 0 examples [00:00, ? examples/s]"
            ],
            "application/vnd.jupyter.widget-view+json": {
              "version_major": 2,
              "version_minor": 0,
              "model_id": "22107a99fadf4944b41c64d9606f0f6f"
            }
          },
          "metadata": {}
        }
      ]
    },
    {
      "cell_type": "code",
      "source": [
        "ds[\"train\"]"
      ],
      "metadata": {
        "colab": {
          "base_uri": "https://localhost:8080/"
        },
        "id": "3RaupjHKc4Sf",
        "outputId": "72fdf9e3-2d6e-4dfd-c777-5d43fa52f0c1"
      },
      "execution_count": null,
      "outputs": [
        {
          "output_type": "execute_result",
          "data": {
            "text/plain": [
              "Dataset({\n",
              "    features: ['prompt', 'reference_code', 'metadata', 'code_context', 'docs'],\n",
              "    num_rows: 1000\n",
              "})"
            ]
          },
          "metadata": {},
          "execution_count": 5
        }
      ]
    },
    {
      "cell_type": "code",
      "source": [
        "import pandas as pd\n",
        "\n",
        "df = pd.DataFrame(ds[\"train\"])\n",
        "print(df.head())"
      ],
      "metadata": {
        "colab": {
          "base_uri": "https://localhost:8080/"
        },
        "collapsed": true,
        "id": "DSDgrWTBXhos",
        "outputId": "1cc6a6c1-91ae-472b-b1b5-2912f25c1381"
      },
      "execution_count": null,
      "outputs": [
        {
          "output_type": "stream",
          "name": "stdout",
          "text": [
            "                                              prompt  \\\n",
            "0  Problem:\\nI have the following DataFrame:\\n   ...   \n",
            "1  Problem:\\nI have the following DataFrame:\\n   ...   \n",
            "2  Problem:\\nI have following pandas dataframe :\\...   \n",
            "3  Problem:\\nI have following pandas dataframe :\\...   \n",
            "4  Problem:\\nI have following pandas dataframe :\\...   \n",
            "\n",
            "                                      reference_code  \\\n",
            "0  def g(df, List):\\n    return df.iloc[List]\\n\\n...   \n",
            "1  def g(df, List):\\n    df2 = df.iloc[List].rein...   \n",
            "2  def g(df):\\n    return df.where(df.apply(lambd...   \n",
            "3  def g(df):\\n    return df.where(df.apply(lambd...   \n",
            "4      result = df.where(df.apply(lambda x: x.map...   \n",
            "\n",
            "                                            metadata  \\\n",
            "0  {'problem_id': 0, 'library_problem_id': 0, 'li...   \n",
            "1  {'problem_id': 1, 'library_problem_id': 1, 'li...   \n",
            "2  {'problem_id': 2, 'library_problem_id': 2, 'li...   \n",
            "3  {'problem_id': 3, 'library_problem_id': 3, 'li...   \n",
            "4  {'problem_id': 4, 'library_problem_id': 4, 'li...   \n",
            "\n",
            "                                        code_context  \\\n",
            "0  import pandas as pd\\nimport numpy as np\\nimpor...   \n",
            "1  import pandas as pd\\nimport numpy as np\\nimpor...   \n",
            "2  import pandas as pd\\nimport numpy as np\\nimpor...   \n",
            "3  import pandas as pd\\nimport numpy as np\\nimpor...   \n",
            "4  import pandas as pd\\nimport numpy as np\\nimpor...   \n",
            "\n",
            "                                                docs  \n",
            "0                                                 []  \n",
            "1                                                 []  \n",
            "2  [{'function': 'df.where', 'text': 'pandas.Data...  \n",
            "3  [{'function': 'df.where', 'text': 'pandas.Data...  \n",
            "4  [{'function': 'exec_context.replace', 'text': ...  \n"
          ]
        }
      ]
    },
    {
      "cell_type": "markdown",
      "source": [
        "# Number of rows to test"
      ],
      "metadata": {
        "id": "8tPRbkeoTny3"
      }
    },
    {
      "cell_type": "code",
      "source": [
        "df = df.iloc[:15]"
      ],
      "metadata": {
        "id": "3ncXqmrBXz8Q"
      },
      "execution_count": null,
      "outputs": []
    },
    {
      "cell_type": "code",
      "source": [
        "df.shape"
      ],
      "metadata": {
        "colab": {
          "base_uri": "https://localhost:8080/"
        },
        "id": "W9stNzZ4X19i",
        "outputId": "f797e115-239a-4c3e-c4df-93a65cc45d32"
      },
      "execution_count": null,
      "outputs": [
        {
          "output_type": "execute_result",
          "data": {
            "text/plain": [
              "(250, 5)"
            ]
          },
          "metadata": {},
          "execution_count": 38
        }
      ]
    },
    {
      "cell_type": "code",
      "source": [
        "df.columns"
      ],
      "metadata": {
        "colab": {
          "base_uri": "https://localhost:8080/"
        },
        "id": "daM430V2ckdG",
        "outputId": "1ed5928d-07c5-4f94-80c2-ce6095bcc95c"
      },
      "execution_count": null,
      "outputs": [
        {
          "output_type": "execute_result",
          "data": {
            "text/plain": [
              "Index(['prompt', 'reference_code', 'metadata', 'code_context', 'docs'], dtype='object')"
            ]
          },
          "metadata": {},
          "execution_count": 39
        }
      ]
    },
    {
      "cell_type": "code",
      "source": [
        "!pip install openai datasets matplotlib scikit-learn\n",
        "!pip install codebleu[all]\n",
        "\n",
        "!pip install tree-sitter-python==0.21"
      ],
      "metadata": {
        "colab": {
          "base_uri": "https://localhost:8080/"
        },
        "id": "0WaD94wPX32y",
        "outputId": "55784791-f53c-4c12-bb23-a3fc8ab942c9"
      },
      "execution_count": null,
      "outputs": [
        {
          "output_type": "stream",
          "name": "stdout",
          "text": [
            "Requirement already satisfied: openai in /usr/local/lib/python3.12/dist-packages (1.108.0)\n",
            "Requirement already satisfied: datasets in /usr/local/lib/python3.12/dist-packages (2.16.1)\n",
            "Requirement already satisfied: matplotlib in /usr/local/lib/python3.12/dist-packages (3.10.0)\n",
            "Requirement already satisfied: scikit-learn in /usr/local/lib/python3.12/dist-packages (1.6.1)\n",
            "Requirement already satisfied: anyio<5,>=3.5.0 in /usr/local/lib/python3.12/dist-packages (from openai) (4.10.0)\n",
            "Requirement already satisfied: distro<2,>=1.7.0 in /usr/local/lib/python3.12/dist-packages (from openai) (1.9.0)\n",
            "Requirement already satisfied: httpx<1,>=0.23.0 in /usr/local/lib/python3.12/dist-packages (from openai) (0.28.1)\n",
            "Requirement already satisfied: jiter<1,>=0.4.0 in /usr/local/lib/python3.12/dist-packages (from openai) (0.11.0)\n",
            "Requirement already satisfied: pydantic<3,>=1.9.0 in /usr/local/lib/python3.12/dist-packages (from openai) (2.11.9)\n",
            "Requirement already satisfied: sniffio in /usr/local/lib/python3.12/dist-packages (from openai) (1.3.1)\n",
            "Requirement already satisfied: tqdm>4 in /usr/local/lib/python3.12/dist-packages (from openai) (4.67.1)\n",
            "Requirement already satisfied: typing-extensions<5,>=4.11 in /usr/local/lib/python3.12/dist-packages (from openai) (4.15.0)\n",
            "Requirement already satisfied: filelock in /usr/local/lib/python3.12/dist-packages (from datasets) (3.19.1)\n",
            "Requirement already satisfied: numpy>=1.17 in /usr/local/lib/python3.12/dist-packages (from datasets) (2.0.2)\n",
            "Requirement already satisfied: pyarrow>=8.0.0 in /usr/local/lib/python3.12/dist-packages (from datasets) (18.1.0)\n",
            "Requirement already satisfied: pyarrow-hotfix in /usr/local/lib/python3.12/dist-packages (from datasets) (0.7)\n",
            "Requirement already satisfied: dill<0.3.8,>=0.3.0 in /usr/local/lib/python3.12/dist-packages (from datasets) (0.3.7)\n",
            "Requirement already satisfied: pandas in /usr/local/lib/python3.12/dist-packages (from datasets) (2.2.2)\n",
            "Requirement already satisfied: requests>=2.19.0 in /usr/local/lib/python3.12/dist-packages (from datasets) (2.32.4)\n",
            "Requirement already satisfied: xxhash in /usr/local/lib/python3.12/dist-packages (from datasets) (3.5.0)\n",
            "Requirement already satisfied: multiprocess in /usr/local/lib/python3.12/dist-packages (from datasets) (0.70.15)\n",
            "Requirement already satisfied: fsspec<=2023.10.0,>=2023.1.0 in /usr/local/lib/python3.12/dist-packages (from fsspec[http]<=2023.10.0,>=2023.1.0->datasets) (2023.10.0)\n",
            "Requirement already satisfied: aiohttp in /usr/local/lib/python3.12/dist-packages (from datasets) (3.12.15)\n",
            "Requirement already satisfied: huggingface-hub>=0.19.4 in /usr/local/lib/python3.12/dist-packages (from datasets) (0.35.0)\n",
            "Requirement already satisfied: packaging in /usr/local/lib/python3.12/dist-packages (from datasets) (25.0)\n",
            "Requirement already satisfied: pyyaml>=5.1 in /usr/local/lib/python3.12/dist-packages (from datasets) (6.0.2)\n",
            "Requirement already satisfied: contourpy>=1.0.1 in /usr/local/lib/python3.12/dist-packages (from matplotlib) (1.3.3)\n",
            "Requirement already satisfied: cycler>=0.10 in /usr/local/lib/python3.12/dist-packages (from matplotlib) (0.12.1)\n",
            "Requirement already satisfied: fonttools>=4.22.0 in /usr/local/lib/python3.12/dist-packages (from matplotlib) (4.60.0)\n",
            "Requirement already satisfied: kiwisolver>=1.3.1 in /usr/local/lib/python3.12/dist-packages (from matplotlib) (1.4.9)\n",
            "Requirement already satisfied: pillow>=8 in /usr/local/lib/python3.12/dist-packages (from matplotlib) (11.3.0)\n",
            "Requirement already satisfied: pyparsing>=2.3.1 in /usr/local/lib/python3.12/dist-packages (from matplotlib) (3.2.4)\n",
            "Requirement already satisfied: python-dateutil>=2.7 in /usr/local/lib/python3.12/dist-packages (from matplotlib) (2.9.0.post0)\n",
            "Requirement already satisfied: scipy>=1.6.0 in /usr/local/lib/python3.12/dist-packages (from scikit-learn) (1.16.2)\n",
            "Requirement already satisfied: joblib>=1.2.0 in /usr/local/lib/python3.12/dist-packages (from scikit-learn) (1.5.2)\n",
            "Requirement already satisfied: threadpoolctl>=3.1.0 in /usr/local/lib/python3.12/dist-packages (from scikit-learn) (3.6.0)\n",
            "Requirement already satisfied: idna>=2.8 in /usr/local/lib/python3.12/dist-packages (from anyio<5,>=3.5.0->openai) (3.10)\n",
            "Requirement already satisfied: aiohappyeyeballs>=2.5.0 in /usr/local/lib/python3.12/dist-packages (from aiohttp->datasets) (2.6.1)\n",
            "Requirement already satisfied: aiosignal>=1.4.0 in /usr/local/lib/python3.12/dist-packages (from aiohttp->datasets) (1.4.0)\n",
            "Requirement already satisfied: attrs>=17.3.0 in /usr/local/lib/python3.12/dist-packages (from aiohttp->datasets) (25.3.0)\n",
            "Requirement already satisfied: frozenlist>=1.1.1 in /usr/local/lib/python3.12/dist-packages (from aiohttp->datasets) (1.7.0)\n",
            "Requirement already satisfied: multidict<7.0,>=4.5 in /usr/local/lib/python3.12/dist-packages (from aiohttp->datasets) (6.6.4)\n",
            "Requirement already satisfied: propcache>=0.2.0 in /usr/local/lib/python3.12/dist-packages (from aiohttp->datasets) (0.3.2)\n",
            "Requirement already satisfied: yarl<2.0,>=1.17.0 in /usr/local/lib/python3.12/dist-packages (from aiohttp->datasets) (1.20.1)\n",
            "Requirement already satisfied: certifi in /usr/local/lib/python3.12/dist-packages (from httpx<1,>=0.23.0->openai) (2025.8.3)\n",
            "Requirement already satisfied: httpcore==1.* in /usr/local/lib/python3.12/dist-packages (from httpx<1,>=0.23.0->openai) (1.0.9)\n",
            "Requirement already satisfied: h11>=0.16 in /usr/local/lib/python3.12/dist-packages (from httpcore==1.*->httpx<1,>=0.23.0->openai) (0.16.0)\n",
            "Requirement already satisfied: hf-xet<2.0.0,>=1.1.3 in /usr/local/lib/python3.12/dist-packages (from huggingface-hub>=0.19.4->datasets) (1.1.10)\n",
            "Requirement already satisfied: annotated-types>=0.6.0 in /usr/local/lib/python3.12/dist-packages (from pydantic<3,>=1.9.0->openai) (0.7.0)\n",
            "Requirement already satisfied: pydantic-core==2.33.2 in /usr/local/lib/python3.12/dist-packages (from pydantic<3,>=1.9.0->openai) (2.33.2)\n",
            "Requirement already satisfied: typing-inspection>=0.4.0 in /usr/local/lib/python3.12/dist-packages (from pydantic<3,>=1.9.0->openai) (0.4.1)\n",
            "Requirement already satisfied: six>=1.5 in /usr/local/lib/python3.12/dist-packages (from python-dateutil>=2.7->matplotlib) (1.17.0)\n",
            "Requirement already satisfied: charset_normalizer<4,>=2 in /usr/local/lib/python3.12/dist-packages (from requests>=2.19.0->datasets) (3.4.3)\n",
            "Requirement already satisfied: urllib3<3,>=1.21.1 in /usr/local/lib/python3.12/dist-packages (from requests>=2.19.0->datasets) (2.5.0)\n",
            "Requirement already satisfied: pytz>=2020.1 in /usr/local/lib/python3.12/dist-packages (from pandas->datasets) (2025.2)\n",
            "Requirement already satisfied: tzdata>=2022.7 in /usr/local/lib/python3.12/dist-packages (from pandas->datasets) (2025.2)\n",
            "Collecting codebleu[all]\n",
            "  Downloading codebleu-0.7.0-py3-none-any.whl.metadata (8.1 kB)\n",
            "Collecting tree-sitter<0.23.0,>=0.22.0 (from codebleu[all])\n",
            "  Downloading tree_sitter-0.22.3-cp312-cp312-manylinux_2_17_x86_64.manylinux2014_x86_64.whl.metadata (10 kB)\n",
            "Requirement already satisfied: setuptools>=61.0.0 in /usr/local/lib/python3.12/dist-packages (from codebleu[all]) (75.2.0)\n",
            "Collecting tree-sitter-python~=0.21 (from codebleu[all])\n",
            "  Downloading tree_sitter_python-0.25.0-cp310-abi3-manylinux1_x86_64.manylinux_2_28_x86_64.manylinux_2_5_x86_64.whl.metadata (1.9 kB)\n",
            "Collecting tree-sitter-go~=0.21 (from codebleu[all])\n",
            "  Downloading tree_sitter_go-0.25.0-cp310-abi3-manylinux1_x86_64.manylinux_2_28_x86_64.manylinux_2_5_x86_64.whl.metadata (1.7 kB)\n",
            "Collecting tree-sitter-javascript~=0.21 (from codebleu[all])\n",
            "  Downloading tree_sitter_javascript-0.25.0-cp310-abi3-manylinux1_x86_64.manylinux_2_28_x86_64.manylinux_2_5_x86_64.whl.metadata (2.2 kB)\n",
            "Collecting tree-sitter-ruby~=0.21 (from codebleu[all])\n",
            "  Downloading tree_sitter_ruby-0.23.1-cp39-abi3-manylinux_2_17_x86_64.manylinux2014_x86_64.whl.metadata (1.8 kB)\n",
            "Collecting tree-sitter-php~=0.22 (from codebleu[all])\n",
            "  Downloading tree_sitter_php-0.24.1-cp310-abi3-manylinux2014_x86_64.manylinux_2_17_x86_64.manylinux_2_28_x86_64.whl.metadata (1.7 kB)\n",
            "Collecting tree-sitter-java~=0.21 (from codebleu[all])\n",
            "  Downloading tree_sitter_java-0.23.5-cp39-abi3-manylinux_2_5_x86_64.manylinux1_x86_64.manylinux_2_17_x86_64.manylinux2014_x86_64.whl.metadata (1.7 kB)\n",
            "Collecting tree-sitter-c-sharp~=0.21 (from codebleu[all])\n",
            "  Downloading tree_sitter_c_sharp-0.23.1-cp39-abi3-manylinux_2_5_x86_64.manylinux1_x86_64.manylinux_2_17_x86_64.manylinux2014_x86_64.whl.metadata (2.7 kB)\n",
            "Collecting tree-sitter-c~=0.21 (from codebleu[all])\n",
            "  Downloading tree_sitter_c-0.24.1-cp310-abi3-manylinux_2_5_x86_64.manylinux1_x86_64.manylinux_2_17_x86_64.manylinux2014_x86_64.whl.metadata (1.8 kB)\n",
            "Collecting tree-sitter-cpp~=0.22 (from codebleu[all])\n",
            "  Downloading tree_sitter_cpp-0.23.4-cp39-abi3-manylinux_2_17_x86_64.manylinux2014_x86_64.whl.metadata (1.8 kB)\n",
            "Collecting tree-sitter-rust~=0.21 (from codebleu[all])\n",
            "  Downloading tree_sitter_rust-0.24.0-cp39-abi3-manylinux_2_5_x86_64.manylinux1_x86_64.manylinux_2_17_x86_64.manylinux2014_x86_64.whl.metadata (2.8 kB)\n",
            "Downloading tree_sitter-0.22.3-cp312-cp312-manylinux_2_17_x86_64.manylinux2014_x86_64.whl (546 kB)\n",
            "\u001b[2K   \u001b[90m━━━━━━━━━━━━━━━━━━━━━━━━━━━━━━━━━━━━━━━━\u001b[0m \u001b[32m546.2/546.2 kB\u001b[0m \u001b[31m9.9 MB/s\u001b[0m eta \u001b[36m0:00:00\u001b[0m\n",
            "\u001b[?25hDownloading tree_sitter_c-0.24.1-cp310-abi3-manylinux_2_5_x86_64.manylinux1_x86_64.manylinux_2_17_x86_64.manylinux2014_x86_64.whl (98 kB)\n",
            "\u001b[2K   \u001b[90m━━━━━━━━━━━━━━━━━━━━━━━━━━━━━━━━━━━━━━━━\u001b[0m \u001b[32m98.1/98.1 kB\u001b[0m \u001b[31m9.6 MB/s\u001b[0m eta \u001b[36m0:00:00\u001b[0m\n",
            "\u001b[?25hDownloading tree_sitter_c_sharp-0.23.1-cp39-abi3-manylinux_2_5_x86_64.manylinux1_x86_64.manylinux_2_17_x86_64.manylinux2014_x86_64.whl (402 kB)\n",
            "\u001b[2K   \u001b[90m━━━━━━━━━━━━━━━━━━━━━━━━━━━━━━━━━━━━━━━━\u001b[0m \u001b[32m402.8/402.8 kB\u001b[0m \u001b[31m29.7 MB/s\u001b[0m eta \u001b[36m0:00:00\u001b[0m\n",
            "\u001b[?25hDownloading tree_sitter_cpp-0.23.4-cp39-abi3-manylinux_2_17_x86_64.manylinux2014_x86_64.whl (316 kB)\n",
            "\u001b[2K   \u001b[90m━━━━━━━━━━━━━━━━━━━━━━━━━━━━━━━━━━━━━━━━\u001b[0m \u001b[32m316.1/316.1 kB\u001b[0m \u001b[31m27.1 MB/s\u001b[0m eta \u001b[36m0:00:00\u001b[0m\n",
            "\u001b[?25hDownloading tree_sitter_go-0.25.0-cp310-abi3-manylinux1_x86_64.manylinux_2_28_x86_64.manylinux_2_5_x86_64.whl (66 kB)\n",
            "\u001b[2K   \u001b[90m━━━━━━━━━━━━━━━━━━━━━━━━━━━━━━━━━━━━━━━━\u001b[0m \u001b[32m66.4/66.4 kB\u001b[0m \u001b[31m5.9 MB/s\u001b[0m eta \u001b[36m0:00:00\u001b[0m\n",
            "\u001b[?25hDownloading tree_sitter_java-0.23.5-cp39-abi3-manylinux_2_5_x86_64.manylinux1_x86_64.manylinux_2_17_x86_64.manylinux2014_x86_64.whl (84 kB)\n",
            "\u001b[2K   \u001b[90m━━━━━━━━━━━━━━━━━━━━━━━━━━━━━━━━━━━━━━━━\u001b[0m \u001b[32m84.0/84.0 kB\u001b[0m \u001b[31m7.6 MB/s\u001b[0m eta \u001b[36m0:00:00\u001b[0m\n",
            "\u001b[?25hDownloading tree_sitter_javascript-0.25.0-cp310-abi3-manylinux1_x86_64.manylinux_2_28_x86_64.manylinux_2_5_x86_64.whl (99 kB)\n",
            "\u001b[2K   \u001b[90m━━━━━━━━━━━━━━━━━━━━━━━━━━━━━━━━━━━━━━━━\u001b[0m \u001b[32m99.7/99.7 kB\u001b[0m \u001b[31m9.4 MB/s\u001b[0m eta \u001b[36m0:00:00\u001b[0m\n",
            "\u001b[?25hDownloading tree_sitter_php-0.24.1-cp310-abi3-manylinux2014_x86_64.manylinux_2_17_x86_64.manylinux_2_28_x86_64.whl (313 kB)\n",
            "\u001b[2K   \u001b[90m━━━━━━━━━━━━━━━━━━━━━━━━━━━━━━━━━━━━━━━━\u001b[0m \u001b[32m313.0/313.0 kB\u001b[0m \u001b[31m26.0 MB/s\u001b[0m eta \u001b[36m0:00:00\u001b[0m\n",
            "\u001b[?25hDownloading tree_sitter_python-0.25.0-cp310-abi3-manylinux1_x86_64.manylinux_2_28_x86_64.manylinux_2_5_x86_64.whl (108 kB)\n",
            "\u001b[2K   \u001b[90m━━━━━━━━━━━━━━━━━━━━━━━━━━━━━━━━━━━━━━━━\u001b[0m \u001b[32m108.1/108.1 kB\u001b[0m \u001b[31m10.8 MB/s\u001b[0m eta \u001b[36m0:00:00\u001b[0m\n",
            "\u001b[?25hDownloading tree_sitter_ruby-0.23.1-cp39-abi3-manylinux_2_17_x86_64.manylinux2014_x86_64.whl (214 kB)\n",
            "\u001b[2K   \u001b[90m━━━━━━━━━━━━━━━━━━━━━━━━━━━━━━━━━━━━━━━━\u001b[0m \u001b[32m214.4/214.4 kB\u001b[0m \u001b[31m20.3 MB/s\u001b[0m eta \u001b[36m0:00:00\u001b[0m\n",
            "\u001b[?25hDownloading tree_sitter_rust-0.24.0-cp39-abi3-manylinux_2_5_x86_64.manylinux1_x86_64.manylinux_2_17_x86_64.manylinux2014_x86_64.whl (165 kB)\n",
            "\u001b[2K   \u001b[90m━━━━━━━━━━━━━━━━━━━━━━━━━━━━━━━━━━━━━━━━\u001b[0m \u001b[32m165.5/165.5 kB\u001b[0m \u001b[31m16.3 MB/s\u001b[0m eta \u001b[36m0:00:00\u001b[0m\n",
            "\u001b[?25hDownloading codebleu-0.7.0-py3-none-any.whl (31 kB)\n",
            "Installing collected packages: tree-sitter-rust, tree-sitter-ruby, tree-sitter-python, tree-sitter-php, tree-sitter-javascript, tree-sitter-java, tree-sitter-go, tree-sitter-cpp, tree-sitter-c-sharp, tree-sitter-c, tree-sitter, codebleu\n",
            "Successfully installed codebleu-0.7.0 tree-sitter-0.22.3 tree-sitter-c-0.24.1 tree-sitter-c-sharp-0.23.1 tree-sitter-cpp-0.23.4 tree-sitter-go-0.25.0 tree-sitter-java-0.23.5 tree-sitter-javascript-0.25.0 tree-sitter-php-0.24.1 tree-sitter-python-0.25.0 tree-sitter-ruby-0.23.1 tree-sitter-rust-0.24.0\n",
            "Collecting tree-sitter-python==0.21\n",
            "  Downloading tree_sitter_python-0.21.0-cp38-abi3-manylinux_2_5_x86_64.manylinux1_x86_64.manylinux_2_17_x86_64.manylinux2014_x86_64.whl.metadata (1.8 kB)\n",
            "Downloading tree_sitter_python-0.21.0-cp38-abi3-manylinux_2_5_x86_64.manylinux1_x86_64.manylinux_2_17_x86_64.manylinux2014_x86_64.whl (130 kB)\n",
            "\u001b[2K   \u001b[90m━━━━━━━━━━━━━━━━━━━━━━━━━━━━━━━━━━━━━━━━\u001b[0m \u001b[32m130.6/130.6 kB\u001b[0m \u001b[31m3.3 MB/s\u001b[0m eta \u001b[36m0:00:00\u001b[0m\n",
            "\u001b[?25hInstalling collected packages: tree-sitter-python\n",
            "  Attempting uninstall: tree-sitter-python\n",
            "    Found existing installation: tree-sitter-python 0.25.0\n",
            "    Uninstalling tree-sitter-python-0.25.0:\n",
            "      Successfully uninstalled tree-sitter-python-0.25.0\n",
            "Successfully installed tree-sitter-python-0.21.0\n"
          ]
        }
      ]
    },
    {
      "cell_type": "code",
      "source": [
        "#\n",
        "import time\n",
        "import logging\n",
        "from openai import OpenAI  # or your client library\n",
        "import warnings; warnings.filterwarnings(\"ignore\")\n",
        "\n",
        "# Setup logging\n",
        "logging.basicConfig(level=logging.INFO, format='%(asctime)s - %(levelname)s - %(message)s')\n",
        "\n",
        "client = OpenAI(\n",
        "    api_key = gpt_api\n",
        ")\n",
        "\n",
        "def generate_code(prompt, model_name, max_retries=5):\n",
        "    attempt = 0\n",
        "    while attempt <= max_retries:\n",
        "        try:\n",
        "            if model_name == \"gpt-4o-mini\":\n",
        "                response = client.chat.completions.create(\n",
        "                    model=model_name,\n",
        "                    messages=[\n",
        "                        {\n",
        "                            \"role\": \"system\",\n",
        "                            \"content\": \"\"\"You are a senior level Software developer, having advance skills in coding.\n",
        "                                        Your task is to generate code based on user message. \\n\\n\n",
        "                                        Note: Provide only the code and do not enclose it And Do Not ask for any input in code, use default values as per users prompt\"\"\"\n",
        "                        },\n",
        "                        {\n",
        "                            \"role\": \"user\",\n",
        "                            \"content\": prompt\n",
        "                        }\n",
        "                    ],\n",
        "                    temperature=0.4,\n",
        "                )\n",
        "                return response.choices[0].message.content\n",
        "\n",
        "            elif model_name == \"meta-llama/llama-3.3-70b-instruct\":\n",
        "                client_mistral = OpenAI(\n",
        "                                    base_url=\"https://openrouter.ai/api/v1\",\n",
        "                                    api_key = openrouter_api,\n",
        "                                    )\n",
        "                completion = client_mistral.chat.completions.create(\n",
        "                    model=\"meta-llama/llama-3.3-70b-instruct\",\n",
        "                    messages=[\n",
        "                        {\"role\": \"system\", \"content\": \"You are a senior Python developer with advanced coding skills. Your task is to complete the implementation of the function based on the provided code prompt.\\n\\nFollow these rules strictly:\\n1. Provide only the Python code inside the function; do not include the function signature, docstring, or any other part that is already present in the prompt.\\n2. Do not enclose the code in markdown, comments, or explanations.\\n3. The code must be executable and follow Python syntax conventions.\\n4. Use 4 spaces per indentation level.\\n5. Do not escape special characters unnecessarily (e.g., underscores should remain as '_').\\n6. Do not add or modify docstrings, examples, or test cases; focus only on the function logic.\\n7. Ensure the output code is clean, executable, and free of syntax errors. Note: Provide only the code and do not enclose it And Do Not ask for any input in code, use default values as per users prompt\"}\n",
        "\n",
        ",\n",
        "                        {\"role\": \"user\", \"content\": f\" ```{prompt}```\"}\n",
        "                    ],\n",
        "                    temperature=0.4,\n",
        "                )\n",
        "                return completion.choices[0].message.content\n",
        "\n",
        "            elif model_name == \"x-ai/grok-3-mini\":\n",
        "                client_grok = OpenAI(\n",
        "                                    base_url=\"https://openrouter.ai/api/v1\",\n",
        "                                    api_key=openrouter_api,\n",
        "                                    )\n",
        "                completion = client_grok.chat.completions.create(\n",
        "                    model=\"x-ai/grok-3-mini\",\n",
        "                    messages=[\n",
        "                        {\"role\": \"system\", \"content\": \"You are a senior Python developer with advanced coding skills. Your task is to complete the implementation of the function based on the provided code prompt.\\n\\nFollow these rules strictly:\\n1. Provide only the Python code inside the function; do not include the function signature, docstring, or any other part that is already present in the prompt.\\n2. Do not enclose the code in markdown, comments, or explanations.\\n3. The code must be executable and follow Python syntax conventions.\\n4. Use 4 spaces per indentation level.\\n5. Do not escape special characters unnecessarily (e.g., underscores should remain as '_').\\n6. Do not add or modify docstrings, examples, or test cases; focus only on the function logic.\\n7. Ensure the output code is clean, executable, and free of syntax errors. Note: Provide only the code and do not enclose it And Do Not ask for any input in code, use default values as per users prompt\"}\n",
        "\n",
        ",\n",
        "                        {\"role\": \"user\", \"content\": f\" ```{prompt}```\"}\n",
        "                    ],\n",
        "                    temperature=0.4,\n",
        "                )\n",
        "                return completion.choices[0].message.content\n",
        "\n",
        "            elif model_name == \"google/gemini-2.0-flash-001\":\n",
        "                client_Gemini = OpenAI(\n",
        "                                    base_url=\"https://openrouter.ai/api/v1\",\n",
        "                                    api_key=openrouter_api,\n",
        "                                    )\n",
        "                completion = client_Gemini.chat.completions.create(\n",
        "                    model=\"google/gemini-2.0-flash-001\",\n",
        "                    messages=[\n",
        "                        {\"role\": \"system\", \"content\": \"You are a senior Python developer with advanced coding skills. Your task is to complete the implementation of the function based on the provided code prompt.\\n\\nFollow these rules strictly:\\n1. Provide only the Python code inside the function; do not include the function signature, docstring, or any other part that is already present in the prompt.\\n2. Do not enclose the code in markdown, comments, or explanations.\\n3. The code must be executable and follow Python syntax conventions.\\n4. Use 4 spaces per indentation level.\\n5. Do not escape special characters unnecessarily (e.g., underscores should remain as '_').\\n6. Do not add or modify docstrings, examples, or test cases; focus only on the function logic.\\n7. Ensure the output code is clean, executable, and free of syntax errors. Note: Provide only the code and do not enclose it And Do Not ask for any input in code, use default values as per users prompt\"}\n",
        "\n",
        ",\n",
        "                        {\"role\": \"user\", \"content\": f\" ```{prompt}```\"}\n",
        "                    ],\n",
        "                    temperature=0.4,\n",
        "                )\n",
        "                return completion.choices[0].message.content\n",
        "\n",
        "            elif model_name == \"perplexity/sonar\":\n",
        "                client_perplexity = OpenAI(\n",
        "                                    base_url=\"https://openrouter.ai/api/v1\",\n",
        "                                    api_key=openrouter_api,\n",
        "                                    )\n",
        "                completion = client_perplexity.chat.completions.create(\n",
        "                    model=\"perplexity/sonar\",\n",
        "                    messages=[\n",
        "                        {\"role\": \"system\", \"content\": \"You are a senior Python developer with advanced coding skills. Your task is to complete the implementation of the function based on the provided code prompt.\\n\\nFollow these rules strictly:\\n1. Provide only the Python code inside the function; do not include the function signature, docstring, or any other part that is already present in the prompt.\\n2. Do not enclose the code in markdown, comments, or explanations.\\n3. The code must be executable and follow Python syntax conventions.\\n4. Use 4 spaces per indentation level.\\n5. Do not escape special characters unnecessarily (e.g., underscores should remain as '_').\\n6. Do not add or modify docstrings, examples, or test cases; focus only on the function logic.\\n7. Ensure the output code is clean, executable, and free of syntax errors. Note: Provide only the code and do not enclose it And Do Not ask for any input in code, use default values as per users prompt\"}\n",
        "\n",
        ",\n",
        "                        {\"role\": \"user\", \"content\": f\" ```{prompt}```\"}\n",
        "                    ],\n",
        "                    temperature=0.4,\n",
        "                )\n",
        "                return completion.choices[0].message.content\n",
        "\n",
        "        except Exception as e:\n",
        "            attempt += 1\n",
        "            wait_time = 2 ** attempt\n",
        "            logging.error(f\"Error on attempt {attempt}: {str(e)}. Retrying in {wait_time} seconds...\")\n",
        "            time.sleep(wait_time)\n",
        "\n",
        "    logging.error(\"Max retries exceeded. Returning empty result.\")\n",
        "    return \"\"\n"
      ],
      "metadata": {
        "id": "PS080QmKX7qC"
      },
      "execution_count": null,
      "outputs": []
    },
    {
      "cell_type": "code",
      "source": [
        "import re\n",
        "import ast\n",
        "import json\n",
        "from sklearn.metrics import f1_score\n",
        "from codebleu import calc_codebleu\n",
        "import io\n",
        "import sys\n",
        "import pandas as pd\n"
      ],
      "metadata": {
        "id": "n7NrAcixd0qP"
      },
      "execution_count": null,
      "outputs": []
    },
    {
      "cell_type": "code",
      "source": [
        "# --- Metrics ---\n",
        "def compute_codebleu(reference, prediction):\n",
        "    result = calc_codebleu([reference], [prediction], lang=\"python\",\n",
        "                           weights=(0.25, 0.25, 0.25, 0.25), tokenizer=None)\n",
        "    return result[\"codebleu\"]\n",
        "\n",
        "\n",
        "def compute_f1(reference, prediction):\n",
        "    ref_tokens = reference.replace(\"\\n\", \" \").split()\n",
        "    pred_tokens = prediction.replace(\"\\n\", \" \").split()\n",
        "    ref_set, pred_set = set(ref_tokens), set(pred_tokens)\n",
        "    tp = len(ref_set & pred_set)\n",
        "    fp = len(pred_set - ref_set)\n",
        "    fn = len(ref_set - pred_set)\n",
        "    precision = tp / (tp + fp + 1e-9)\n",
        "    recall = tp / (tp + fn + 1e-9)\n",
        "    f1 = 2 * precision * recall / (precision + recall + 1e-9)\n",
        "    return f1"
      ],
      "metadata": {
        "id": "VGekOVpnewlS"
      },
      "execution_count": null,
      "outputs": []
    },
    {
      "cell_type": "code",
      "source": [
        "samples = df.to_dict(orient=\"records\")   # df is DS1000 dataframe\n",
        "\n",
        "results = {\n",
        "    \"gpt-4o-mini\": [],\n",
        "    \"meta-llama/llama-3.3-70b-instruct\": [],\n",
        "    \"x-ai/grok-3-mini\": [],\n",
        "    \"google/gemini-2.0-flash-001\": [],\n",
        "    \"perplexity/sonar\": []\n",
        "}\n",
        "\n",
        "# Build test cases from metadata (if present)\n",
        "def build_tests(metadata):\n",
        "    \"\"\"\n",
        "    In DS1000, metadata may contain input/output examples.\n",
        "    Expecting metadata[\"io_pairs\"] like [{\"inputs\": \"...\", \"outputs\": \"...\"}]\n",
        "    \"\"\"\n",
        "    if not isinstance(metadata, dict):\n",
        "        try:\n",
        "            metadata = json.loads(metadata)\n",
        "        except:\n",
        "            return []\n",
        "    return metadata.get(\"io_pairs\", [])"
      ],
      "metadata": {
        "id": "a2JAbD8Se0H6"
      },
      "execution_count": null,
      "outputs": []
    },
    {
      "cell_type": "markdown",
      "source": [
        "## GPT 4o Mini"
      ],
      "metadata": {
        "id": "tjOYvgxqfdYf"
      }
    },
    {
      "cell_type": "code",
      "source": [
        "    model = \"gpt-4o-mini\"\n",
        "    generated_logs = {\n",
        "    \"gpt-4o-mini\": [],\n",
        "    \"meta-llama/llama-3.3-70b-instruct\": [],\n",
        "    \"x-ai/grok-3-mini\": [],\n",
        "    \"google/gemini-2.0-flash-001\": [],\n",
        "    \"perplexity/sonar\": []\n",
        "}\n",
        "    for ex in samples:\n",
        "        # Build prompt\n",
        "        prompt = ex[\"prompt\"]\n",
        "        if ex.get(\"code_context\"):\n",
        "            prompt += \"\\nContext:\\n\" + str(ex[\"code_context\"])\n",
        "        if ex.get(\"docs\"):\n",
        "            prompt += \"\\nDocs:\\n\" + str(ex[\"docs\"])\n",
        "\n",
        "        # Generate model code\n",
        "        model_code = generate_code(prompt, model)   # <-- your generation function\n",
        "\n",
        "        # Clean markdown ``` formatting\n",
        "        model_code = re.sub(r\"^```(?:python)?\\s*\", \"\", model_code.strip(),\n",
        "                            flags=re.IGNORECASE | re.MULTILINE)\n",
        "        model_code = re.sub(r\"```$\", \"\", model_code.strip())\n",
        "\n",
        "        generated_logs[model].append(model_code)\n",
        "\n",
        "        # Reference solution\n",
        "        reference_code = ex[\"reference_code\"]\n",
        "\n",
        "        # Build tests from metadata\n",
        "        test_cases = build_tests(ex[\"metadata\"])\n",
        "\n",
        "\n",
        "        codebleu = compute_codebleu(reference_code, model_code)\n",
        "        f1 = compute_f1(reference_code, model_code)\n",
        "\n",
        "        # Check Pass@1\n",
        "        passed = 1 if codebleu >= 0.7 or f1 >= 0.7 else 0\n",
        "\n",
        "        # Compute metrics\n",
        "        metrics = {\n",
        "            \"pass@1\": passed,\n",
        "            \"codebleu\": compute_codebleu(reference_code, model_code),\n",
        "            \"f1\": compute_f1(reference_code, model_code),\n",
        "        }\n",
        "\n",
        "        results[model].append(metrics)\n",
        "\n",
        "    print(model)\n"
      ],
      "metadata": {
        "colab": {
          "base_uri": "https://localhost:8080/"
        },
        "id": "L4Mc1JLle80w",
        "outputId": "6eab4d94-ae6b-4234-8977-592f4fc48373"
      },
      "execution_count": null,
      "outputs": [
        {
          "output_type": "stream",
          "name": "stdout",
          "text": [
            "gpt-4o-mini\n"
          ]
        }
      ]
    },
    {
      "cell_type": "code",
      "source": [],
      "metadata": {
        "colab": {
          "base_uri": "https://localhost:8080/"
        },
        "id": "UTT7Q2J4EQZK",
        "outputId": "d3cc843b-da06-4b56-b262-b7b194442489"
      },
      "execution_count": null,
      "outputs": [
        {
          "output_type": "execute_result",
          "data": {
            "text/plain": [
              "list"
            ]
          },
          "metadata": {},
          "execution_count": 47
        }
      ]
    },
    {
      "cell_type": "markdown",
      "source": [
        "## Llama"
      ],
      "metadata": {
        "id": "7NoXgkhm_PCO"
      }
    },
    {
      "cell_type": "code",
      "source": [
        "    model = \"meta-llama/llama-3.3-70b-instruct\"\n",
        "\n",
        "    for ex in samples:\n",
        "        # Build prompt\n",
        "        prompt = ex[\"prompt\"]\n",
        "        if ex.get(\"code_context\"):\n",
        "            prompt += \"\\nContext:\\n\" + str(ex[\"code_context\"])\n",
        "        if ex.get(\"docs\"):\n",
        "            prompt += \"\\nDocs:\\n\" + str(ex[\"docs\"])\n",
        "\n",
        "        # Generate model code\n",
        "        model_code = generate_code(prompt, model)   # <-- your generation function\n",
        "\n",
        "        # Clean markdown ``` formatting\n",
        "        model_code = re.sub(r\"^```(?:python)?\\s*\", \"\", model_code.strip(),\n",
        "                            flags=re.IGNORECASE | re.MULTILINE)\n",
        "        model_code = re.sub(r\"```$\", \"\", model_code.strip())\n",
        "\n",
        "        generated_logs[model].append(model_code)\n",
        "\n",
        "        # Reference solution\n",
        "        reference_code = ex[\"reference_code\"]\n",
        "\n",
        "        # Build tests from metadata\n",
        "        test_cases = build_tests(ex[\"metadata\"])\n",
        "\n",
        "\n",
        "        codebleu = compute_codebleu(reference_code, model_code)\n",
        "        f1 = compute_f1(reference_code, model_code)\n",
        "\n",
        "        # Check Pass@1\n",
        "        passed = 1 if codebleu >= 0.7 or f1 >= 0.7 else 0\n",
        "\n",
        "        # Compute metrics\n",
        "        metrics = {\n",
        "            \"pass@1\": passed,\n",
        "            \"codebleu\": compute_codebleu(reference_code, model_code),\n",
        "            \"f1\": compute_f1(reference_code, model_code),\n",
        "        }\n",
        "\n",
        "        results[model].append(metrics)\n",
        "\n",
        "    print(model)\n"
      ],
      "metadata": {
        "colab": {
          "base_uri": "https://localhost:8080/"
        },
        "id": "mkUK85ltfs3t",
        "outputId": "5d1a776e-9b8c-4d4c-e9a1-ac1e926cd0fd"
      },
      "execution_count": null,
      "outputs": [
        {
          "output_type": "stream",
          "name": "stdout",
          "text": [
            "meta-llama/llama-3.3-70b-instruct\n"
          ]
        }
      ]
    },
    {
      "cell_type": "markdown",
      "source": [
        "## Grok"
      ],
      "metadata": {
        "id": "R0xKeBPs_jm4"
      }
    },
    {
      "cell_type": "code",
      "source": [
        "    model = \"x-ai/grok-3-mini\"\n",
        "\n",
        "    for ex in samples:\n",
        "        # Build prompt\n",
        "        prompt = ex[\"prompt\"]\n",
        "        if ex.get(\"code_context\"):\n",
        "            prompt += \"\\nContext:\\n\" + str(ex[\"code_context\"])\n",
        "        if ex.get(\"docs\"):\n",
        "            prompt += \"\\nDocs:\\n\" + str(ex[\"docs\"])\n",
        "\n",
        "        # Generate model code\n",
        "        model_code = generate_code(prompt, model)   # <-- your generation function\n",
        "\n",
        "        # Clean markdown ``` formatting\n",
        "        model_code = re.sub(r\"^```(?:python)?\\s*\", \"\", model_code.strip(),\n",
        "                            flags=re.IGNORECASE | re.MULTILINE)\n",
        "        model_code = re.sub(r\"```$\", \"\", model_code.strip())\n",
        "\n",
        "        generated_logs[model].append(model_code)\n",
        "\n",
        "        # Reference solution\n",
        "        reference_code = ex[\"reference_code\"]\n",
        "\n",
        "        # Build tests from metadata\n",
        "        test_cases = build_tests(ex[\"metadata\"])\n",
        "\n",
        "\n",
        "        codebleu = compute_codebleu(reference_code, model_code)\n",
        "        f1 = compute_f1(reference_code, model_code)\n",
        "\n",
        "        # Check Pass@1\n",
        "        passed = 1 if codebleu >= 0.7 or f1 >= 0.7 else 0\n",
        "\n",
        "        # Compute metrics\n",
        "        metrics = {\n",
        "            \"pass@1\": passed,\n",
        "            \"codebleu\": compute_codebleu(reference_code, model_code),\n",
        "            \"f1\": compute_f1(reference_code, model_code),\n",
        "        }\n",
        "\n",
        "        results[model].append(metrics)\n",
        "\n",
        "    print(model)\n"
      ],
      "metadata": {
        "colab": {
          "base_uri": "https://localhost:8080/"
        },
        "id": "PRLEfjBkfwDt",
        "outputId": "4b1272b6-9579-487a-9860-4e5d99373f49"
      },
      "execution_count": null,
      "outputs": [
        {
          "output_type": "stream",
          "name": "stdout",
          "text": [
            "x-ai/grok-3-mini\n"
          ]
        }
      ]
    },
    {
      "cell_type": "markdown",
      "source": [
        "## Gemini"
      ],
      "metadata": {
        "id": "G6asb4qI_uKG"
      }
    },
    {
      "cell_type": "code",
      "source": [
        "    model = \"google/gemini-2.0-flash-001\"\n",
        "\n",
        "    for ex in samples:\n",
        "        # Build prompt\n",
        "        prompt = ex[\"prompt\"]\n",
        "        if ex.get(\"code_context\"):\n",
        "            prompt += \"\\nContext:\\n\" + str(ex[\"code_context\"])\n",
        "        if ex.get(\"docs\"):\n",
        "            prompt += \"\\nDocs:\\n\" + str(ex[\"docs\"])\n",
        "\n",
        "        # Generate model code\n",
        "        model_code = generate_code(prompt, model)   # <-- your generation function\n",
        "\n",
        "        # Clean markdown ``` formatting\n",
        "        model_code = re.sub(r\"^```(?:python)?\\s*\", \"\", model_code.strip(),\n",
        "                            flags=re.IGNORECASE | re.MULTILINE)\n",
        "        model_code = re.sub(r\"```$\", \"\", model_code.strip())\n",
        "\n",
        "        generated_logs[model].append(model_code)\n",
        "\n",
        "        # Reference solution\n",
        "        reference_code = ex[\"reference_code\"]\n",
        "\n",
        "        # Build tests from metadata\n",
        "        test_cases = build_tests(ex[\"metadata\"])\n",
        "\n",
        "\n",
        "        codebleu = compute_codebleu(reference_code, model_code)\n",
        "        f1 = compute_f1(reference_code, model_code)\n",
        "\n",
        "        # Check Pass@1\n",
        "        passed = 1 if codebleu >= 0.7 or f1 >= 0.7 else 0\n",
        "\n",
        "        # Compute metrics\n",
        "        metrics = {\n",
        "            \"pass@1\": passed,\n",
        "            \"codebleu\": compute_codebleu(reference_code, model_code),\n",
        "            \"f1\": compute_f1(reference_code, model_code),\n",
        "        }\n",
        "\n",
        "        results[model].append(metrics)\n",
        "\n",
        "    print(model)\n"
      ],
      "metadata": {
        "colab": {
          "base_uri": "https://localhost:8080/"
        },
        "id": "4zn2MvFLh2U2",
        "outputId": "7fa98858-72ef-48de-9d5a-91e59620fc47"
      },
      "execution_count": null,
      "outputs": [
        {
          "output_type": "stream",
          "name": "stdout",
          "text": [
            "google/gemini-2.0-flash-001\n"
          ]
        }
      ]
    },
    {
      "cell_type": "markdown",
      "source": [
        "## Perplexity"
      ],
      "metadata": {
        "id": "DOdOblkX_3r7"
      }
    },
    {
      "cell_type": "code",
      "source": [
        "    model = \"perplexity/sonar\"\n",
        "\n",
        "    for ex in samples:\n",
        "        # Build prompt\n",
        "        prompt = ex[\"prompt\"]\n",
        "        if ex.get(\"code_context\"):\n",
        "            prompt += \"\\nContext:\\n\" + str(ex[\"code_context\"])\n",
        "        if ex.get(\"docs\"):\n",
        "            prompt += \"\\nDocs:\\n\" + str(ex[\"docs\"])\n",
        "\n",
        "        # Generate model code\n",
        "        model_code = generate_code(prompt, model)   # <-- your generation function\n",
        "\n",
        "        # Clean markdown ``` formatting\n",
        "        model_code = re.sub(r\"^```(?:python)?\\s*\", \"\", model_code.strip(),\n",
        "                            flags=re.IGNORECASE | re.MULTILINE)\n",
        "        model_code = re.sub(r\"```$\", \"\", model_code.strip())\n",
        "\n",
        "        generated_logs[model].append(model_code)\n",
        "\n",
        "        # Reference solution\n",
        "        reference_code = ex[\"reference_code\"]\n",
        "\n",
        "        # Build tests from metadata\n",
        "        test_cases = build_tests(ex[\"metadata\"])\n",
        "\n",
        "\n",
        "        codebleu = compute_codebleu(reference_code, model_code)\n",
        "        f1 = compute_f1(reference_code, model_code)\n",
        "\n",
        "        # Check Pass@1\n",
        "        passed = 1 if codebleu >= 0.7 or f1 >= 0.7 else 0\n",
        "\n",
        "        # Compute metrics\n",
        "        metrics = {\n",
        "            \"pass@1\": passed,\n",
        "            \"codebleu\": compute_codebleu(reference_code, model_code),\n",
        "            \"f1\": compute_f1(reference_code, model_code),\n",
        "        }\n",
        "\n",
        "        results[model].append(metrics)\n",
        "\n",
        "    print(model)\n"
      ],
      "metadata": {
        "colab": {
          "base_uri": "https://localhost:8080/"
        },
        "id": "LsLTyghC_8qE",
        "outputId": "ba8324b3-3f11-4673-b54f-f88dcda9dfe5"
      },
      "execution_count": null,
      "outputs": [
        {
          "output_type": "stream",
          "name": "stdout",
          "text": [
            "perplexity/sonar\n"
          ]
        }
      ]
    },
    {
      "cell_type": "code",
      "source": [
        "import numpy as np\n",
        "\n",
        "summary = {}\n",
        "for model, metrics in results.items():\n",
        "    pass1 = np.mean([m[\"pass@1\"] for m in metrics])\n",
        "    cb = np.mean([m[\"codebleu\"] for m in metrics])\n",
        "    f1 = np.mean([m[\"f1\"] for m in metrics])\n",
        "    avg = np.mean([pass1, cb, f1])  # overall average for the model\n",
        "\n",
        "    summary[model] = {\n",
        "        \"Pass@1\": pass1,\n",
        "        \"CodeBLEU\": cb,\n",
        "        \"F1\": f1,\n",
        "        \"Average\": avg\n",
        "    }\n",
        "\n",
        "summary\n"
      ],
      "metadata": {
        "colab": {
          "base_uri": "https://localhost:8080/"
        },
        "id": "Uxh3_HJOBC3G",
        "outputId": "d73b55d9-9d4b-4077-cbbf-e79f5cb03e68"
      },
      "execution_count": null,
      "outputs": [
        {
          "output_type": "execute_result",
          "data": {
            "text/plain": [
              "{'gpt-4o-mini': {'Pass@1': np.float64(0.007936507936507936),\n",
              "  'CodeBLEU': np.float64(0.2985196177329304),\n",
              "  'F1': np.float64(0.24762865682991037),\n",
              "  'Average': np.float64(0.1846949274997829)},\n",
              " 'meta-llama/llama-3.3-70b-instruct': {'Pass@1': np.float64(0.1),\n",
              "  'CodeBLEU': np.float64(0.28717984707909855),\n",
              "  'F1': np.float64(0.3756164957008387),\n",
              "  'Average': np.float64(0.25426544759331243)},\n",
              " 'x-ai/grok-3-mini': {'Pass@1': np.float64(0.18),\n",
              "  'CodeBLEU': np.float64(0.37050421873574413),\n",
              "  'F1': np.float64(0.46004048862403535),\n",
              "  'Average': np.float64(0.3368482357865932)},\n",
              " 'google/gemini-2.0-flash-001': {'Pass@1': np.float64(0.152),\n",
              "  'CodeBLEU': np.float64(0.3277941320535982),\n",
              "  'F1': np.float64(0.4300805101693215),\n",
              "  'Average': np.float64(0.3032915474076399)},\n",
              " 'perplexity/sonar': {'Pass@1': np.float64(0.056),\n",
              "  'CodeBLEU': np.float64(0.2555361591638614),\n",
              "  'F1': np.float64(0.34912349586399527),\n",
              "  'Average': np.float64(0.22021988500928558)}}"
            ]
          },
          "metadata": {},
          "execution_count": 2
        }
      ]
    },
    {
      "cell_type": "code",
      "source": [
        "import matplotlib.pyplot as plt\n",
        "\n",
        "metrics = [\"Pass@1\", \"CodeBLEU\", \"F1\"]\n",
        "models = [\"gpt-4o-mini\",\n",
        "          \"meta-llama/llama-3.3-70b-instruct\",\n",
        "          \"x-ai/grok-3-mini\",\n",
        "          \"google/gemini-2.0-flash-001\",\n",
        "          \"perplexity/sonar\"]\n",
        "\n",
        "for metric in metrics:\n",
        "    values = [summary[m][metric] for m in models]\n",
        "\n",
        "    plt.bar(models, values)\n",
        "    plt.title(metric + \" Comparison\")\n",
        "    plt.ylabel(metric)\n",
        "    plt.xticks(rotation=45, ha=\"right\")  # rotate labels 45° and align right\n",
        "    plt.tight_layout()                   # prevent cutoff\n",
        "    plt.show()\n"
      ],
      "metadata": {
        "colab": {
          "base_uri": "https://localhost:8080/",
          "height": 1000
        },
        "id": "D7Y5W07zBI6u",
        "outputId": "54d46e6e-3cd3-43c6-820f-f42e2612ef7e"
      },
      "execution_count": null,
      "outputs": [
        {
          "output_type": "display_data",
          "data": {
            "text/plain": [
              "<Figure size 640x480 with 1 Axes>"
            ],
            "image/png": "[encoded data removed]"
          },
          "metadata": {}
        },
        {
          "output_type": "display_data",
          "data": {
            "text/plain": [
              "<Figure size 640x480 with 1 Axes>"
            ],
            "image/png": "[encoded data removed]"
          },
          "metadata": {}
        },
        {
          "output_type": "display_data",
          "data": {
            "text/plain": [
              "<Figure size 640x480 with 1 Axes>"
            ],
            "image/png": "[encoded data removed]"
          },
          "metadata": {}
        }
      ]
    },
    {
      "cell_type": "code",
      "source": [
        "import matplotlib.pyplot as plt\n",
        "import numpy as np\n",
        "\n",
        "metrics = [\"Pass@1\", \"CodeBLEU\", \"F1\"]\n",
        "models = [\n",
        "    \"gpt-4o-mini\",\n",
        "    \"meta-llama/llama-3.3-70b-instruct\",\n",
        "    \"x-ai/grok-3-mini\",\n",
        "    \"google/gemini-2.0-flash-001\",\n",
        "    \"perplexity/sonar\"\n",
        "]\n",
        "\n",
        "for metric in metrics:\n",
        "    values = [summary[m][metric] for m in models]\n",
        "    plt.figure(figsize=(8,5))\n",
        "    plt.bar(models, values, color=\"skyblue\")\n",
        "\n",
        "    plt.title(f\"{metric} (Overall Average)\", fontsize=14)\n",
        "    plt.ylabel(metric)\n",
        "    plt.ylim(0,1)  # since most metrics are between 0–1\n",
        "    plt.xticks(rotation=45, ha=\"right\")  # rotate labels\n",
        "\n",
        "    plt.tight_layout()  # prevent cutoff\n",
        "    plt.show()\n",
        "\n"
      ],
      "metadata": {
        "colab": {
          "base_uri": "https://localhost:8080/",
          "height": 1000
        },
        "id": "gbHtGKnxBmpA",
        "outputId": "d44124c0-6777-41f1-9253-0910d3556d9c"
      },
      "execution_count": null,
      "outputs": [
        {
          "output_type": "display_data",
          "data": {
            "text/plain": [
              "<Figure size 800x500 with 1 Axes>"
            ],
            "image/png": "[encoded data removed]"
          },
          "metadata": {}
        },
        {
          "output_type": "display_data",
          "data": {
            "text/plain": [
              "<Figure size 800x500 with 1 Axes>"
            ],
            "image/png": "[encoded data removed]"
          },
          "metadata": {}
        },
        {
          "output_type": "display_data",
          "data": {
            "text/plain": [
              "<Figure size 800x500 with 1 Axes>"
            ],
            "image/png": "[encoded data removed]"
          },
          "metadata": {}
        }
      ]
    },
    {
      "cell_type": "code",
      "source": [
        "metricss = [\"Pass@1\", \"CodeBLEU\", \"F1\", \"Average\"]\n",
        "modelss = [\n",
        "    \"gpt-4o-mini\",\n",
        "    \"meta-llama/llama-3.3-70b-instruct\",\n",
        "    \"x-ai/grok-3-mini\",\n",
        "    \"google/gemini-2.0-flash-001\",\n",
        "    \"perplexity/sonar\"\n",
        "]\n",
        "\n",
        "fig, ax = plt.subplots(figsize=(8, 2.5))\n",
        "ax.axis('off')\n",
        "\n",
        "# Include the \"Average\" row from summary\n",
        "table_data = [[summary[model][metric] for model in modelss] for metric in metricss]\n",
        "\n",
        "table = ax.table(cellText=table_data,\n",
        "                 rowLabels=metricss,\n",
        "                 colLabels=modelss,\n",
        "                 cellLoc='center',\n",
        "                 loc='center')\n",
        "\n",
        "table.auto_set_font_size(False)\n",
        "table.set_fontsize(12)\n",
        "table.scale(2.1, 2.1)\n",
        "\n",
        "plt.title(\"Metrics Comparison Table\", fontsize=14, pad=20)\n",
        "plt.show()\n"
      ],
      "metadata": {
        "colab": {
          "base_uri": "https://localhost:8080/",
          "height": 184
        },
        "id": "tp3MgpH_Bv3M",
        "outputId": "759565fa-8aec-4085-e402-6ff1709ff220"
      },
      "execution_count": null,
      "outputs": [
        {
          "output_type": "display_data",
          "data": {
            "text/plain": [
              "<Figure size 800x250 with 1 Axes>"
            ],
            "image/png": "[encoded data removed]"
          },
          "metadata": {}
        }
      ]
    },
    {
      "cell_type": "code",
      "source": [
        "best_model = max(summary.items(), key=lambda x: x[1][\"Average\"])\n",
        "print(f\"Best Model: {best_model[0]}\")\n",
        "print(f\"Average Score: {best_model[1]['Average']:.4f}\")\n"
      ],
      "metadata": {
        "colab": {
          "base_uri": "https://localhost:8080/"
        },
        "id": "-9tRvdKkq7qC",
        "outputId": "3a15aa99-661a-404b-c171-f1e15de0900d"
      },
      "execution_count": null,
      "outputs": [
        {
          "output_type": "stream",
          "name": "stdout",
          "text": [
            "Best Model: x-ai/grok-3-mini\n",
            "Average Score: 0.3368\n"
          ]
        }
      ]
    },
    {
      "cell_type": "code",
      "source": [
        "# Save JSON\n",
        "with open(\"result_ds.json\", \"w\") as f:\n",
        "    json.dump(results, f, indent=4)\n",
        "\n",
        "\n",
        "print(\"Downloaded result_Apps.json to your local machine.\")"
      ],
      "metadata": {
        "colab": {
          "base_uri": "https://localhost:8080/",
          "height": 35
        },
        "id": "fUlJc2oCB2Xf",
        "outputId": "44d3e740-e120-4755-e0e3-232dab33799a"
      },
      "execution_count": null,
      "outputs": [
        {
          "output_type": "display_data",
          "data": {
            "text/plain": [
              "<IPython.core.display.Javascript object>"
            ],
            "application/javascript": [
              "\n",
              "    async function download(id, filename, size) {\n",
              "      if (!google.colab.kernel.accessAllowed) {\n",
              "        return;\n",
              "      }\n",
              "      const div = document.createElement('div');\n",
              "      const label = document.createElement('label');\n",
              "      label.textContent = `Downloading \"${filename}\": `;\n",
              "      div.appendChild(label);\n",
              "      const progress = document.createElement('progress');\n",
              "      progress.max = size;\n",
              "      div.appendChild(progress);\n",
              "      document.body.appendChild(div);\n",
              "\n",
              "      const buffers = [];\n",
              "      let downloaded = 0;\n",
              "\n",
              "      const channel = await google.colab.kernel.comms.open(id);\n",
              "      // Send a message to notify the kernel that we're ready.\n",
              "      channel.send({})\n",
              "\n",
              "      for await (const message of channel.messages) {\n",
              "        // Send a message to notify the kernel that we're ready.\n",
              "        channel.send({})\n",
              "        if (message.buffers) {\n",
              "          for (const buffer of message.buffers) {\n",
              "            buffers.push(buffer);\n",
              "            downloaded += buffer.byteLength;\n",
              "            progress.value = downloaded;\n",
              "          }\n",
              "        }\n",
              "      }\n",
              "      const blob = new Blob(buffers, {type: 'application/binary'});\n",
              "      const a = document.createElement('a');\n",
              "      a.href = window.URL.createObjectURL(blob);\n",
              "      a.download = filename;\n",
              "      div.appendChild(a);\n",
              "      a.click();\n",
              "      div.remove();\n",
              "    }\n",
              "  "
            ]
          },
          "metadata": {}
        },
        {
          "output_type": "display_data",
          "data": {
            "text/plain": [
              "<IPython.core.display.Javascript object>"
            ],
            "application/javascript": [
              "download(\"download_397ac2f4-00b8-45bf-b4e9-8bd2a52ccf4e\", \"result_ds.json\", 159915)"
            ]
          },
          "metadata": {}
        },
        {
          "output_type": "stream",
          "name": "stdout",
          "text": [
            "Downloaded result_Apps.json to your local machine.\n"
          ]
        }
      ]
    },
    {
      "cell_type": "code",
      "source": [
        "# Save JSON\n",
        "with open(\"generated_code_ds.json\", \"w\") as f:\n",
        "    json.dump(generated_logs, f, indent=4)\n",
        "\n",
        "\n",
        "print(\"Downloaded generated_code_ds.json to your local machine.\")"
      ],
      "metadata": {
        "colab": {
          "base_uri": "https://localhost:8080/",
          "height": 35
        },
        "id": "ACMFsEU9DemV",
        "outputId": "003d7338-8615-4c00-fdc2-613b2905c3fd"
      },
      "execution_count": null,
      "outputs": [
        {
          "output_type": "display_data",
          "data": {
            "text/plain": [
              "<IPython.core.display.Javascript object>"
            ],
            "application/javascript": [
              "\n",
              "    async function download(id, filename, size) {\n",
              "      if (!google.colab.kernel.accessAllowed) {\n",
              "        return;\n",
              "      }\n",
              "      const div = document.createElement('div');\n",
              "      const label = document.createElement('label');\n",
              "      label.textContent = `Downloading \"${filename}\": `;\n",
              "      div.appendChild(label);\n",
              "      const progress = document.createElement('progress');\n",
              "      progress.max = size;\n",
              "      div.appendChild(progress);\n",
              "      document.body.appendChild(div);\n",
              "\n",
              "      const buffers = [];\n",
              "      let downloaded = 0;\n",
              "\n",
              "      const channel = await google.colab.kernel.comms.open(id);\n",
              "      // Send a message to notify the kernel that we're ready.\n",
              "      channel.send({})\n",
              "\n",
              "      for await (const message of channel.messages) {\n",
              "        // Send a message to notify the kernel that we're ready.\n",
              "        channel.send({})\n",
              "        if (message.buffers) {\n",
              "          for (const buffer of message.buffers) {\n",
              "            buffers.push(buffer);\n",
              "            downloaded += buffer.byteLength;\n",
              "            progress.value = downloaded;\n",
              "          }\n",
              "        }\n",
              "      }\n",
              "      const blob = new Blob(buffers, {type: 'application/binary'});\n",
              "      const a = document.createElement('a');\n",
              "      a.href = window.URL.createObjectURL(blob);\n",
              "      a.download = filename;\n",
              "      div.appendChild(a);\n",
              "      a.click();\n",
              "      div.remove();\n",
              "    }\n",
              "  "
            ]
          },
          "metadata": {}
        },
        {
          "output_type": "display_data",
          "data": {
            "text/plain": [
              "<IPython.core.display.Javascript object>"
            ],
            "application/javascript": [
              "download(\"download_74f23c17-dc2a-41c1-8ce6-8940ee80cbd7\", \"generated_code_ds.json\", 272633)"
            ]
          },
          "metadata": {}
        },
        {
          "output_type": "stream",
          "name": "stdout",
          "text": [
            "Downloaded result_Apps.json to your local machine.\n"
          ]
        }
      ]
    },
    {
      "cell_type": "code",
      "source": [],
      "metadata": {
        "id": "uTP8mg6VX75g"
      },
      "execution_count": null,
      "outputs": []
    }
  ]
}
